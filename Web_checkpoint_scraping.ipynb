{
 "cells": [
  {
   "cell_type": "code",
   "execution_count": 1,
   "id": "b5a420fa-5d6d-4894-9f17-9da7f33938b3",
   "metadata": {},
   "outputs": [],
   "source": [
    "import requests\n",
    "from bs4 import BeautifulSoup\n",
    "import string"
   ]
  },
  {
   "cell_type": "code",
   "execution_count": null,
   "id": "426fa713-bd76-46c8-8daa-66479ba695e5",
   "metadata": {},
   "outputs": [],
   "source": [
    "# Get user input\n",
    "Enter_input = input('Search: ')\n",
    "# Capitalize user input\n",
    "u_i = string.capwords(Enter_input)\n",
    "lists = u_i.split()\n",
    "word = '_'.join(lists)\n",
    "\n",
    "# Construct the Wikipedia URL\n",
    "url = 'https://en.wikipedia.org/wiki/' + word\n",
    "\n",
    "# define the wikibot function\n",
    "def wikibot(url):\n",
    "    try:\n",
    "        # Fetch the content from the URL\n",
    "        url_open = requests.get(url)\n",
    "        url_open.raise_for_status()  # Raise an error for bad responses\n",
    "        soup = BeautifulSoup(url_open.content, 'html.parser')\n",
    "        \n",
    "        # Find the infobox\n",
    "        details = soup.find_all('table', {'class': 'infobox'})\n",
    "        \n",
    "        if not details:\n",
    "            print(\"No infobox found for this page.\")\n",
    "            return\n",
    "        \n",
    "        for i in details:\n",
    "            h = i.find_all('tr')\n",
    "            for j in h:\n",
    "                heading = j.find_all('th')\n",
    "                detail = j.find_all('td')\n",
    "                if heading and detail:  # Check if both lists are not empty\n",
    "                    for x, y in zip(heading, detail):\n",
    "                        print(\"{} :: {}\".format(x.text.strip(), y.text.strip()))\n",
    "                        print(\"----------------\")\n",
    "        \n",
    "        # Print the first two paragraphs\n",
    "        paragraphs = soup.find_all('p')\n",
    "        for i in range(min(2, len(paragraphs))):  # Ensure we don't go out of bounds\n",
    "            print(paragraphs[i].text.strip())\n",
    "    \n",
    "    except requests.exceptions.RequestException as e:\n",
    "        print(f\"An error occurred: {e}\")\n",
    "\n",
    "# Call the function\n",
    "wikibot(url)"
   ]
  },
  {
   "cell_type": "code",
   "execution_count": null,
   "id": "d5ad25a4-09bd-4a04-95d0-c18feb7d0639",
   "metadata": {},
   "outputs": [],
   "source": []
  }
 ],
 "metadata": {
  "kernelspec": {
   "display_name": "Python 3 (ipykernel)",
   "language": "python",
   "name": "python3"
  },
  "language_info": {
   "codemirror_mode": {
    "name": "ipython",
    "version": 3
   },
   "file_extension": ".py",
   "mimetype": "text/x-python",
   "name": "python",
   "nbconvert_exporter": "python",
   "pygments_lexer": "ipython3",
   "version": "3.12.7"
  }
 },
 "nbformat": 4,
 "nbformat_minor": 5
}
