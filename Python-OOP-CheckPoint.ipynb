{
 "cells": [
  {
   "cell_type": "markdown",
   "id": "6a457cc8-95a1-4bbb-83e7-7d850d775367",
   "metadata": {},
   "source": [
    "### Olalekan Erinola Elebute\n",
    "* Data Science Cohort 7 (GMC)\n",
    "* Object oriented programming (oop)\n",
    "* Creating a Bank Account."
   ]
  },
  {
   "cell_type": "markdown",
   "id": "2674f308-ad51-45ff-8a9d-f4956a53d43d",
   "metadata": {},
   "source": [
    "### Instructions\n",
    "\n",
    "- Create a new file called \"bank_account.py\"\n",
    "- Define the Account class and its attributes as specified above.\n",
    "- Define the deposit() method. It should take in one argument, the amount to be deposited, and add it to the account balance.\n",
    "- Define the withdraw() method. It should take in one argument, the amount to be withdrawn, and subtract it from the account balance. The method should only execute the withdrawal if the account balance is greater than or equal to the amount to be withdrawn.\n",
    "- Define the check_balance() method. It should return the current account balance.\n",
    "- Create an instance of the Account class, and assign it to a variable called \"my_account\".\n",
    "- Use the methods of the class to deposit and withdraw money from the account, and check the account balance.\n",
    "- Test the program by creating multiple instances of the class and performing different transactions on them."
   ]
  },
  {
   "cell_type": "code",
   "execution_count": 131,
   "id": "c981b0db-fbc0-4175-908a-84e1dfecaad0",
   "metadata": {},
   "outputs": [],
   "source": [
    "# Creating a class \"Account\" that has the following attributes:\n",
    "\n",
    "\n",
    "class Account:\n",
    "    def __init__(self, account_number: str, account_holder: str, bank_name: str, account_balance: float = 0.0):\n",
    "        self.account_number = account_number\n",
    "        self.account_balance = account_balance\n",
    "        self.account_holder = account_holder\n",
    "        self.bank_name = bank_name\n",
    "        \n",
    "\n",
    "    def deposit(self, amount: float):\n",
    "        \"\"\"Add the amount to the account balance.\"\"\"\n",
    "        if amount > 0:\n",
    "            self.account_balance += amount\n",
    "            print(f\"Deposited {amount}. New balance is {self.account_balance}.\")\n",
    "        else:\n",
    "            print(\"Deposit amount must be positive.\")\n",
    "\n",
    "    def withdraw(self, amount: float):\n",
    "        \"\"\"Subtract the amount from the account balance if sufficient funds exist.\"\"\"\n",
    "        if amount > 0:\n",
    "            if self.account_balance >= amount:\n",
    "                self.account_balance -= amount\n",
    "                print(f\"Withdrew {amount}. New balance is {self.account_balance}.\")\n",
    "            else:\n",
    "                print(\"Insufficient funds for withdrawal.\")\n",
    "        else:\n",
    "            print(\"Withdrawal amount must be positive.\")\n",
    "\n",
    "    def check_balance(self) -> float:\n",
    "        \"\"\"Return the current account balance.\"\"\"\n",
    "        return self.account_balance\n",
    "\n",
    "\n",
    "# Create an instance of the Account class\n",
    "my_account = Account(account_number=\"8425000228\", account_holder=\"Olalekan Erinola Elebute\", bank_name=\"GMC Bank PLC\")"
   ]
  },
  {
   "cell_type": "code",
   "execution_count": 194,
   "id": "7c30c9ac-b92a-4b1d-a632-d58aab011d56",
   "metadata": {},
   "outputs": [
    {
     "name": "stdout",
     "output_type": "stream",
     "text": [
      "Deposited 9000000.0. New balance is 17978101.0.\n",
      "Withdrew 21899.0. New balance is 17956202.0.\n",
      "Available Balance On Checkings: 17956202.0\n"
     ]
    }
   ],
   "source": [
    "# Test the methods\n",
    "# Deposit $900,000.00\n",
    "my_account.bank_name\n",
    "my_account.deposit(9000000.0)\n",
    "# Withdraw $21,899\n",
    "my_account.withdraw(21899.0)        \n",
    "# Check balance\n",
    "print(f\"Available Balance On Checkings: {my_account.check_balance()}\")"
   ]
  },
  {
   "cell_type": "code",
   "execution_count": 196,
   "id": "fc3bc2b2-5f3b-471e-8e2d-7f0a07ec422a",
   "metadata": {},
   "outputs": [
    {
     "name": "stdout",
     "output_type": "stream",
     "text": [
      "Deposited 590070.0. New balance is 590070.0.\n",
      "Withdrew 1800.0. New balance is 588270.0.\n",
      "Available Balance On Savings: 588270.0\n"
     ]
    }
   ],
   "source": [
    "# Create another instance for more testing\n",
    "another_account = Account(account_number=\"8423648899\", account_holder=\"Olalekan Erinola Elebute\", bank_name=\"GMC Bank PLC\")\n",
    "another_account.deposit(590070.0)\n",
    "my_account.account_holder\n",
    "my_account.bank_name\n",
    "my_account.account_number\n",
    "another_account.withdraw(1800.0)  \n",
    "print(f\"Available Balance On Savings: {another_account.check_balance()}\")  # Check balance"
   ]
  },
  {
   "cell_type": "code",
   "execution_count": 234,
   "id": "1f77c964-3331-4995-a8c9-953a6ae6045a",
   "metadata": {},
   "outputs": [
    {
     "data": {
      "text/plain": [
       "'GMC Bank PLC'"
      ]
     },
     "execution_count": 234,
     "metadata": {},
     "output_type": "execute_result"
    }
   ],
   "source": [
    "# Bank Name\n",
    "my_account.bank_name"
   ]
  },
  {
   "cell_type": "code",
   "execution_count": 236,
   "id": "86cb4f5f-d170-4ba2-8ed7-734ab4f9b3d4",
   "metadata": {},
   "outputs": [
    {
     "data": {
      "text/plain": [
       "'Olalekan Erinola Elebute'"
      ]
     },
     "execution_count": 236,
     "metadata": {},
     "output_type": "execute_result"
    }
   ],
   "source": [
    "# Account Holder\n",
    "my_account.account_holder"
   ]
  },
  {
   "cell_type": "code",
   "execution_count": 240,
   "id": "790e2792-71c4-4d0f-8848-c0e40b0fd568",
   "metadata": {},
   "outputs": [
    {
     "name": "stdout",
     "output_type": "stream",
     "text": [
      "Available Balance On Checkings: 26956202.0\n",
      "Available Balance On Savings: 588270.0\n"
     ]
    }
   ],
   "source": [
    "# Available Balance on all Bank Accounts\n",
    "\n",
    "print(f\"Available Balance On Checkings: {my_account.check_balance()}\")\n",
    "print(f\"Available Balance On Savings: {another_account.check_balance()}\")  # Check balance"
   ]
  },
  {
   "cell_type": "code",
   "execution_count": null,
   "id": "d6e8e7d3-be6d-463d-a1b1-579a4de606a5",
   "metadata": {},
   "outputs": [],
   "source": []
  },
  {
   "cell_type": "markdown",
   "id": "2483e765-f50c-480d-beb2-63ef1e3def79",
   "metadata": {},
   "source": [
    "### Explanation of the Code:\n",
    "1. **Class Definition**: The `Account` class is initialized with `account_number`, `account_holder`, and an optional `account_balance` (defaulting to 0.0) and adding my own tips \"bank_name\n",
    "2. **Deposit Method**: The `deposit` method checks if the amount is positive before adding it to the balance.\n",
    "3. **Withdraw Method**: The `withdraw` method ensures the account has enough funds before performing the withdrawal.\n",
    "4. **Check Balance Method**: The `check_balance` method simply returns the current balance.\n",
    "5. **Instance Creation**: Two instances of the `Account` class are created, allowing for testing of various transactions.\n",
    "6. **Creating Bank**: Adding a srt \"bank_name\"\n",
    "\n",
    "You can run my code in a Python Notebook to test the functionality of the `Account` class. \n"
   ]
  },
  {
   "cell_type": "code",
   "execution_count": null,
   "id": "4e11977f-fc78-45aa-aac3-e97bd1ea4340",
   "metadata": {},
   "outputs": [],
   "source": []
  }
 ],
 "metadata": {
  "kernelspec": {
   "display_name": "Python 3 (ipykernel)",
   "language": "python",
   "name": "python3"
  },
  "language_info": {
   "codemirror_mode": {
    "name": "ipython",
    "version": 3
   },
   "file_extension": ".py",
   "mimetype": "text/x-python",
   "name": "python",
   "nbconvert_exporter": "python",
   "pygments_lexer": "ipython3",
   "version": "3.12.7"
  }
 },
 "nbformat": 4,
 "nbformat_minor": 5
}
