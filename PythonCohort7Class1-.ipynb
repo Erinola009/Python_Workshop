{
 "cells": [
  {
   "cell_type": "markdown",
   "id": "5069c887-a169-40e4-af61-b163399249a8",
   "metadata": {},
   "source": [
    "## For loops \n",
    "For loops is used to iterate through a sequence of values"
   ]
  },
  {
   "cell_type": "code",
   "execution_count": 11,
   "id": "49b94145-98e8-4cd7-a14b-4596cc9b9377",
   "metadata": {},
   "outputs": [
    {
     "name": "stdout",
     "output_type": "stream",
     "text": [
      "0\n",
      "1\n",
      "2\n",
      "3\n",
      "4\n"
     ]
    }
   ],
   "source": [
    "for i in range(5):\n",
    "    print(i)"
   ]
  },
  {
   "cell_type": "code",
   "execution_count": 13,
   "id": "46b4cfe5-5669-4788-8414-a59148bdc919",
   "metadata": {},
   "outputs": [
    {
     "name": "stdout",
     "output_type": "stream",
     "text": [
      "0\n",
      "1\n",
      "2\n",
      "3\n"
     ]
    }
   ],
   "source": [
    "for i in range(10):\n",
    "    if i > 3:\n",
    "        break\n",
    "    print(i)"
   ]
  },
  {
   "cell_type": "code",
   "execution_count": 15,
   "id": "5226a304-31b3-456a-81e5-95705f16635e",
   "metadata": {},
   "outputs": [
    {
     "name": "stdout",
     "output_type": "stream",
     "text": [
      "0\n",
      "1\n",
      "2\n",
      "4\n",
      "5\n",
      "6\n"
     ]
    }
   ],
   "source": [
    "for i in range(7):\n",
    "    if i == 3:\n",
    "        continue\n",
    "    print(i)"
   ]
  },
  {
   "cell_type": "markdown",
   "id": "6e5757ba-8c24-401e-a750-356dc64314af",
   "metadata": {},
   "source": [
    "## Strings\n",
    "- Strings are essential part of Python programming construct, they are denoted by either single or double quotes. \n",
    "- Strings have methods for changing and manipulating them."
   ]
  },
  {
   "cell_type": "code",
   "execution_count": 18,
   "id": "5ac7a943-d87d-4031-a334-fc2847f07948",
   "metadata": {},
   "outputs": [],
   "source": [
    "name = 'eniola'\n",
    "names = ['emmanuel', 'ruth', 'eniola', 'niyi', 'soji']"
   ]
  },
  {
   "cell_type": "code",
   "execution_count": 20,
   "id": "bca333dc-f17a-48de-a5d1-d121f2132c56",
   "metadata": {},
   "outputs": [
    {
     "data": {
      "text/plain": [
       "'Eniola'"
      ]
     },
     "execution_count": 20,
     "metadata": {},
     "output_type": "execute_result"
    }
   ],
   "source": [
    "name.capitalize()"
   ]
  },
  {
   "cell_type": "code",
   "execution_count": 22,
   "id": "297d178a-5355-46dc-9f0c-a917e001cc94",
   "metadata": {},
   "outputs": [],
   "source": [
    "new_names = []\n",
    "for i in names:\n",
    "    new_names.append(i.capitalize())"
   ]
  },
  {
   "cell_type": "code",
   "execution_count": 24,
   "id": "f002fd64-39d9-4af4-9591-dbacf7753ca2",
   "metadata": {},
   "outputs": [
    {
     "data": {
      "text/plain": [
       "['Emmanuel', 'Ruth', 'Eniola', 'Niyi', 'Soji']"
      ]
     },
     "execution_count": 24,
     "metadata": {},
     "output_type": "execute_result"
    }
   ],
   "source": [
    "new_names"
   ]
  },
  {
   "cell_type": "code",
   "execution_count": 26,
   "id": "213feeec-8c6d-410e-9a06-ad4ce5aa7fab",
   "metadata": {},
   "outputs": [
    {
     "data": {
      "text/plain": [
       "'ENIOLA'"
      ]
     },
     "execution_count": 26,
     "metadata": {},
     "output_type": "execute_result"
    }
   ],
   "source": [
    "name.upper()"
   ]
  },
  {
   "cell_type": "code",
   "execution_count": 28,
   "id": "4843ba97-1b45-465e-88d3-e6471f2ab7c6",
   "metadata": {},
   "outputs": [],
   "source": [
    "new_names = []\n",
    "for i in names:\n",
    "    new_names.append(i.upper())"
   ]
  },
  {
   "cell_type": "code",
   "execution_count": 30,
   "id": "d33de323-53ee-4386-9504-aa2b0bbb51e4",
   "metadata": {},
   "outputs": [
    {
     "data": {
      "text/plain": [
       "['EMMANUEL', 'RUTH', 'ENIOLA', 'NIYI', 'SOJI']"
      ]
     },
     "execution_count": 30,
     "metadata": {},
     "output_type": "execute_result"
    }
   ],
   "source": [
    "new_names"
   ]
  },
  {
   "cell_type": "code",
   "execution_count": 32,
   "id": "e3914ab9-d531-4797-8b35-e3ec6ae1f377",
   "metadata": {},
   "outputs": [
    {
     "data": {
      "text/plain": [
       "'ENIOLA'"
      ]
     },
     "execution_count": 32,
     "metadata": {},
     "output_type": "execute_result"
    }
   ],
   "source": [
    "capital = name.upper()\n",
    "capital"
   ]
  },
  {
   "cell_type": "code",
   "execution_count": 34,
   "id": "3cf31eaf-e28b-4a9d-baab-065bc3c75ff0",
   "metadata": {},
   "outputs": [
    {
     "data": {
      "text/plain": [
       "'Eniola'"
      ]
     },
     "execution_count": 34,
     "metadata": {},
     "output_type": "execute_result"
    }
   ],
   "source": [
    "# This method change the first letter of the word to uppercase\n",
    "capital.title()"
   ]
  },
  {
   "cell_type": "code",
   "execution_count": 36,
   "id": "31ed8655-eccb-4709-97c6-96e9293ae942",
   "metadata": {},
   "outputs": [
    {
     "data": {
      "text/plain": [
       "'eniola'"
      ]
     },
     "execution_count": 36,
     "metadata": {},
     "output_type": "execute_result"
    }
   ],
   "source": [
    "# This method changes all the letter of the word to lowercase\n",
    "capital.lower()"
   ]
  },
  {
   "cell_type": "code",
   "execution_count": 38,
   "id": "cb8dfc3d-6d68-4f65-b4d4-2b28a0c890ec",
   "metadata": {},
   "outputs": [
    {
     "data": {
      "text/plain": [
       "'we are learning python'"
      ]
     },
     "execution_count": 38,
     "metadata": {},
     "output_type": "execute_result"
    }
   ],
   "source": [
    "'wE ARE LEARNING python'.lower()"
   ]
  },
  {
   "cell_type": "code",
   "execution_count": 40,
   "id": "e0e2b270-e330-4223-8ff1-43220f747efd",
   "metadata": {},
   "outputs": [],
   "source": [
    "name = '   olasoji  '"
   ]
  },
  {
   "cell_type": "code",
   "execution_count": 42,
   "id": "76682086-c696-49f9-8eba-eaf4fb931c41",
   "metadata": {},
   "outputs": [
    {
     "data": {
      "text/plain": [
       "12"
      ]
     },
     "execution_count": 42,
     "metadata": {},
     "output_type": "execute_result"
    }
   ],
   "source": [
    "# This function is used to get the length of a string\n",
    "len(name)"
   ]
  },
  {
   "cell_type": "code",
   "execution_count": 44,
   "id": "67b8b251-498a-47b9-a67e-0aedf16c8f0d",
   "metadata": {},
   "outputs": [
    {
     "data": {
      "text/plain": [
       "'olasoji  '"
      ]
     },
     "execution_count": 44,
     "metadata": {},
     "output_type": "execute_result"
    }
   ],
   "source": [
    "# This method strips the whitespaces on the left of a string\n",
    "name.lstrip()"
   ]
  },
  {
   "cell_type": "code",
   "execution_count": 46,
   "id": "00048f77-3416-41db-8072-8cb149a19e28",
   "metadata": {},
   "outputs": [
    {
     "data": {
      "text/plain": [
       "'   olasoji'"
      ]
     },
     "execution_count": 46,
     "metadata": {},
     "output_type": "execute_result"
    }
   ],
   "source": [
    "# This method strips the whitespaces on the right of a string\n",
    "name.rstrip()"
   ]
  },
  {
   "cell_type": "code",
   "execution_count": 48,
   "id": "86ad703d-eedd-4389-8e1d-fb9ad3f87fd0",
   "metadata": {},
   "outputs": [
    {
     "data": {
      "text/plain": [
       "'olasoji'"
      ]
     },
     "execution_count": 48,
     "metadata": {},
     "output_type": "execute_result"
    }
   ],
   "source": [
    "# This method strips the whitespaces on both sides of a string\n",
    "name.strip()"
   ]
  },
  {
   "cell_type": "code",
   "execution_count": 50,
   "id": "b6ecca76-4d94-47d4-a7fc-8ef2f46785b7",
   "metadata": {},
   "outputs": [
    {
     "data": {
      "text/plain": [
       "False"
      ]
     },
     "execution_count": 50,
     "metadata": {},
     "output_type": "execute_result"
    }
   ],
   "source": [
    "'AbcDef'.islower()"
   ]
  },
  {
   "cell_type": "code",
   "execution_count": 51,
   "id": "736a9179-4cff-4bd4-bc33-ff744906327e",
   "metadata": {},
   "outputs": [
    {
     "name": "stdout",
     "output_type": "stream",
     "text": [
      "b\n",
      "c\n",
      "e\n",
      "f\n"
     ]
    }
   ],
   "source": [
    "for i in 'AbcDef':\n",
    "    if i.islower() == True:\n",
    "        print(i)"
   ]
  },
  {
   "cell_type": "code",
   "execution_count": 53,
   "id": "9cf505ac-8a3d-4eea-b28f-258b99fcabbd",
   "metadata": {},
   "outputs": [
    {
     "name": "stdout",
     "output_type": "stream",
     "text": [
      "A\n",
      "b\n",
      "c\n",
      "D\n",
      "e\n",
      "f\n"
     ]
    }
   ],
   "source": [
    "lower_case = ''\n",
    "for i in 'AbcDef':\n",
    "    if i.islower() == True:\n",
    "        print(i)\n",
    "    elif i.isupper() == True:\n",
    "        print(i)"
   ]
  },
  {
   "cell_type": "code",
   "execution_count": 55,
   "id": "75b51376-e724-4a13-8a5d-df457bb6e263",
   "metadata": {},
   "outputs": [],
   "source": [
    "lower_case = []\n",
    "upper_case = []\n",
    "for i in 'AbcDef':\n",
    "    if i.islower() == True:\n",
    "        lower_case.append(i)\n",
    "    elif i.isupper() == True:\n",
    "        upper_case.append(i)"
   ]
  },
  {
   "cell_type": "code",
   "execution_count": 56,
   "id": "30af1d6e-9638-4b58-93a9-8ae04fe1bb61",
   "metadata": {},
   "outputs": [
    {
     "name": "stdout",
     "output_type": "stream",
     "text": [
      "['b', 'c', 'e', 'f']\n",
      "['A', 'D']\n"
     ]
    }
   ],
   "source": [
    "print(lower_case)\n",
    "print(upper_case)"
   ]
  },
  {
   "cell_type": "code",
   "execution_count": 58,
   "id": "fc77ffff-09c2-4b15-9d57-8838015a82c8",
   "metadata": {},
   "outputs": [
    {
     "data": {
      "text/plain": [
       "'A-b-c-D-e-f'"
      ]
     },
     "execution_count": 58,
     "metadata": {},
     "output_type": "execute_result"
    }
   ],
   "source": [
    "# Add joining two strings together\n",
    "# Important Note!!! A String once declared can not be changed \n",
    "'-'.join('AbcDef')"
   ]
  },
  {
   "cell_type": "code",
   "execution_count": 60,
   "id": "390f3f8a-7014-4a77-b627-abf403846a2c",
   "metadata": {},
   "outputs": [
    {
     "data": {
      "text/plain": [
       "'+ + + +o+l+a+s+o+j+i+ + +'"
      ]
     },
     "execution_count": 60,
     "metadata": {},
     "output_type": "execute_result"
    }
   ],
   "source": [
    "# This replace the first  argument with second argument in a string\n",
    "name.replace('','+')"
   ]
  },
  {
   "cell_type": "code",
   "execution_count": 61,
   "id": "d81b483e-d386-4bd9-aaf8-67939c96f682",
   "metadata": {},
   "outputs": [
    {
     "data": {
      "text/plain": [
       "['WE', 'ARE', 'LEARNING', 'PYTHON', 'TOGETHER']"
      ]
     },
     "execution_count": 61,
     "metadata": {},
     "output_type": "execute_result"
    }
   ],
   "source": [
    "split = \"WE ARE LEARNING PYTHON TOGETHER\".split(' ')\n",
    "split"
   ]
  },
  {
   "cell_type": "markdown",
   "id": "49186f4e-a7a5-4b7a-8f56-a1bfe44e3521",
   "metadata": {},
   "source": [
    "## PYTHON LIST\n",
    "- The list is a python data structure that can be changed or mutuable, list can store any type of data.\n",
    "- It's denoted by square bracket"
   ]
  },
  {
   "cell_type": "code",
   "execution_count": 65,
   "id": "76b0b77c-4a1c-416c-ae7e-9d2c176d2d8e",
   "metadata": {},
   "outputs": [],
   "source": [
    "shopping_list = ['Mango', 'Tomatoes', 'Pasta', 'Noodles', 'Rice']"
   ]
  },
  {
   "cell_type": "code",
   "execution_count": 66,
   "id": "86f43850-fc73-4c77-b29f-097aa15e653c",
   "metadata": {},
   "outputs": [
    {
     "data": {
      "text/plain": [
       "'Mango'"
      ]
     },
     "execution_count": 66,
     "metadata": {},
     "output_type": "execute_result"
    }
   ],
   "source": [
    "shopping_list[0]"
   ]
  },
  {
   "cell_type": "code",
   "execution_count": 68,
   "id": "3b839f79-08be-49f3-b627-c22acda1240c",
   "metadata": {},
   "outputs": [
    {
     "data": {
      "text/plain": [
       "'Rice'"
      ]
     },
     "execution_count": 68,
     "metadata": {},
     "output_type": "execute_result"
    }
   ],
   "source": [
    "shopping_list[4]"
   ]
  },
  {
   "cell_type": "code",
   "execution_count": 69,
   "id": "177aac00-b154-4e59-b747-38e51bbfbb50",
   "metadata": {},
   "outputs": [
    {
     "data": {
      "text/plain": [
       "'Rice'"
      ]
     },
     "execution_count": 69,
     "metadata": {},
     "output_type": "execute_result"
    }
   ],
   "source": [
    "shopping_list[-1]"
   ]
  },
  {
   "cell_type": "code",
   "execution_count": 71,
   "id": "5e0160a6-2ef7-4334-b2d2-d9094f72bb70",
   "metadata": {},
   "outputs": [
    {
     "data": {
      "text/plain": [
       "'Mango'"
      ]
     },
     "execution_count": 71,
     "metadata": {},
     "output_type": "execute_result"
    }
   ],
   "source": [
    "shopping_list[-5]"
   ]
  },
  {
   "cell_type": "code",
   "execution_count": 73,
   "id": "ac73a593-f3e3-4d51-9c25-845178e46ce4",
   "metadata": {},
   "outputs": [
    {
     "data": {
      "text/plain": [
       "['Pasta', 'Noodles', 'Rice']"
      ]
     },
     "execution_count": 73,
     "metadata": {},
     "output_type": "execute_result"
    }
   ],
   "source": [
    "# slicing\n",
    "# The last number in the slice is always excluded.\n",
    "shopping_list[2:5]"
   ]
  },
  {
   "cell_type": "code",
   "execution_count": 74,
   "id": "0974d503-e33e-4938-adfa-ff51b85c77ce",
   "metadata": {},
   "outputs": [
    {
     "data": {
      "text/plain": [
       "['Pasta', 'Noodles']"
      ]
     },
     "execution_count": 74,
     "metadata": {},
     "output_type": "execute_result"
    }
   ],
   "source": [
    "shopping_list[-3:-1]"
   ]
  },
  {
   "cell_type": "code",
   "execution_count": 76,
   "id": "5aa70425-19ce-4150-88bb-c6902058a128",
   "metadata": {},
   "outputs": [
    {
     "data": {
      "text/plain": [
       "['Mango', 'Tomatoes', 'Pasta', 'Noodles', 'Rice']"
      ]
     },
     "execution_count": 76,
     "metadata": {},
     "output_type": "execute_result"
    }
   ],
   "source": [
    "# Listing all the element in the list\n",
    "shopping_list[:]"
   ]
  },
  {
   "cell_type": "code",
   "execution_count": 78,
   "id": "8eccdb4c-a938-4867-bb03-be70f83d5146",
   "metadata": {},
   "outputs": [
    {
     "data": {
      "text/plain": [
       "['Mango', 'Tomatoes', 'Pasta']"
      ]
     },
     "execution_count": 78,
     "metadata": {},
     "output_type": "execute_result"
    }
   ],
   "source": [
    "# Start from the beginning stop at the third element \n",
    "shopping_list[:3]"
   ]
  },
  {
   "cell_type": "markdown",
   "id": "fe2a71c2-660d-40f8-925e-3f0d1544c541",
   "metadata": {},
   "source": [
    "## List methods(functions)\n",
    "- List have some methods which are useful for manipulating and changing the values or elements in the list"
   ]
  },
  {
   "cell_type": "code",
   "execution_count": 82,
   "id": "451cc6b9-8b49-4793-9410-0db2ad8c767b",
   "metadata": {},
   "outputs": [
    {
     "data": {
      "text/plain": [
       "['Mango', 'Tomatoes', 'Pasta', 'Noodles', 'Rice']"
      ]
     },
     "execution_count": 82,
     "metadata": {},
     "output_type": "execute_result"
    }
   ],
   "source": [
    "shopping_list"
   ]
  },
  {
   "cell_type": "code",
   "execution_count": 85,
   "id": "8393fb42-e0cb-46f1-b2b0-e13b6b8f8b97",
   "metadata": {},
   "outputs": [],
   "source": [
    "# this is an empty list \n",
    "my_list = []"
   ]
  },
  {
   "cell_type": "code",
   "execution_count": 86,
   "id": "a9af5275-ba25-4dbe-bc73-b7c60fe47672",
   "metadata": {},
   "outputs": [],
   "source": [
    "# adding beeans to the shopping list\n",
    "shopping_list.append('beans')"
   ]
  },
  {
   "cell_type": "code",
   "execution_count": 183,
   "id": "89a1a59f-3c5d-46bf-b5e1-e0c81dc1f851",
   "metadata": {},
   "outputs": [
    {
     "data": {
      "text/plain": [
       "['Mango',\n",
       " 'Tomatoes',\n",
       " 'Pasta',\n",
       " 'Noodles',\n",
       " 'Rice',\n",
       " 'Eggs',\n",
       " 'beans',\n",
       " 'perfume',\n",
       " 'ice-cream',\n",
       " 'groundnut']"
      ]
     },
     "execution_count": 183,
     "metadata": {},
     "output_type": "execute_result"
    }
   ],
   "source": [
    "shopping_list"
   ]
  },
  {
   "cell_type": "code",
   "execution_count": 90,
   "id": "1cc49af4-7c0e-4e4b-96d5-988fd085e676",
   "metadata": {},
   "outputs": [],
   "source": [
    "my_list.append('shoes')"
   ]
  },
  {
   "cell_type": "code",
   "execution_count": 91,
   "id": "1635a636-1a25-40b1-bef2-760d5f9d420e",
   "metadata": {},
   "outputs": [
    {
     "data": {
      "text/plain": [
       "['shoes']"
      ]
     },
     "execution_count": 91,
     "metadata": {},
     "output_type": "execute_result"
    }
   ],
   "source": [
    "my_list"
   ]
  },
  {
   "cell_type": "code",
   "execution_count": 121,
   "id": "4ac5b02a-3178-4be4-bc0b-29d5ae8265f8",
   "metadata": {},
   "outputs": [
    {
     "data": {
      "text/plain": [
       "'shirt'"
      ]
     },
     "execution_count": 121,
     "metadata": {},
     "output_type": "execute_result"
    }
   ],
   "source": [
    "my_list.pop(1)"
   ]
  },
  {
   "cell_type": "code",
   "execution_count": 96,
   "id": "1c06211f-9442-486d-8fc1-6a6e3bdf2ac8",
   "metadata": {},
   "outputs": [
    {
     "data": {
      "text/plain": [
       "['shoes']"
      ]
     },
     "execution_count": 96,
     "metadata": {},
     "output_type": "execute_result"
    }
   ],
   "source": [
    "my_list"
   ]
  },
  {
   "cell_type": "code",
   "execution_count": 123,
   "id": "b5bfaaa0-48df-4bbd-a7ee-e8f92bb6f030",
   "metadata": {},
   "outputs": [
    {
     "data": {
      "text/plain": [
       "'Mac'"
      ]
     },
     "execution_count": 123,
     "metadata": {},
     "output_type": "execute_result"
    }
   ],
   "source": [
    "my_list.pop(2)"
   ]
  },
  {
   "cell_type": "code",
   "execution_count": 101,
   "id": "1bfea931-865c-4826-a9df-88088d960561",
   "metadata": {},
   "outputs": [
    {
     "data": {
      "text/plain": [
       "['shoes', 'banana']"
      ]
     },
     "execution_count": 101,
     "metadata": {},
     "output_type": "execute_result"
    }
   ],
   "source": [
    "my_list.append('banana')\n",
    "my_list"
   ]
  },
  {
   "cell_type": "code",
   "execution_count": 103,
   "id": "5243fad7-eb99-4f94-b69e-79738c7062c1",
   "metadata": {},
   "outputs": [],
   "source": [
    "# The extend method extend the list with more items or element\n",
    "shopping_list.extend(['perfume', 'ice-cream', 'groundnut'])"
   ]
  },
  {
   "cell_type": "code",
   "execution_count": 105,
   "id": "9e296c61-aabf-42e0-9629-570d2763dcb0",
   "metadata": {},
   "outputs": [
    {
     "data": {
      "text/plain": [
       "['Mango',\n",
       " 'Tomatoes',\n",
       " 'Pasta',\n",
       " 'Noodles',\n",
       " 'Rice',\n",
       " 'beans',\n",
       " 'perfume',\n",
       " 'ice-cream',\n",
       " 'groundnut']"
      ]
     },
     "execution_count": 105,
     "metadata": {},
     "output_type": "execute_result"
    }
   ],
   "source": [
    "shopping_list"
   ]
  },
  {
   "cell_type": "code",
   "execution_count": 107,
   "id": "d9b2ae4f-fbf2-44c4-95db-21761a307b86",
   "metadata": {},
   "outputs": [],
   "source": [
    "my_list.extend(['shirt','land','Mac','iphone-16','samsung','headset'])"
   ]
  },
  {
   "cell_type": "code",
   "execution_count": 108,
   "id": "4353cbe1-9a13-4336-9c55-2b8402e9b974",
   "metadata": {},
   "outputs": [
    {
     "data": {
      "text/plain": [
       "['shoes', 'banana', 'shirt', 'land', 'Mac', 'iphone-16', 'samsung', 'headset']"
      ]
     },
     "execution_count": 108,
     "metadata": {},
     "output_type": "execute_result"
    }
   ],
   "source": [
    "my_list"
   ]
  },
  {
   "cell_type": "markdown",
   "id": "f0fee1cd-9637-46e2-93f7-be99827973dc",
   "metadata": {},
   "source": [
    "# POP METHOD"
   ]
  },
  {
   "cell_type": "code",
   "execution_count": 111,
   "id": "326ab4b8-38c8-482f-b844-d633ebffb384",
   "metadata": {},
   "outputs": [
    {
     "data": {
      "text/plain": [
       "'headset'"
      ]
     },
     "execution_count": 111,
     "metadata": {},
     "output_type": "execute_result"
    }
   ],
   "source": [
    "# Using [.pop()] on default it pops the last element\n",
    "my_list.pop()"
   ]
  },
  {
   "cell_type": "code",
   "execution_count": 113,
   "id": "f1ff5356-53ce-4112-ac28-46107525dc1e",
   "metadata": {},
   "outputs": [
    {
     "data": {
      "text/plain": [
       "'banana'"
      ]
     },
     "execution_count": 113,
     "metadata": {},
     "output_type": "execute_result"
    }
   ],
   "source": [
    "# the pop also takes indexing to pop a specified element\n",
    "my_list.pop(1)"
   ]
  },
  {
   "cell_type": "code",
   "execution_count": 142,
   "id": "4ab0d7e3-675b-4530-92e3-f34821476c6b",
   "metadata": {},
   "outputs": [
    {
     "data": {
      "text/plain": [
       "['shoes', 'land', 'iphone-16', 'samsung']"
      ]
     },
     "execution_count": 142,
     "metadata": {},
     "output_type": "execute_result"
    }
   ],
   "source": [
    "my_list"
   ]
  },
  {
   "cell_type": "markdown",
   "id": "370bbff0-2c8f-4f23-95ea-81ac237a0c8b",
   "metadata": {},
   "source": [
    "# REMOVE METHOD"
   ]
  },
  {
   "cell_type": "code",
   "execution_count": 163,
   "id": "fb77afb6-c483-43b2-a91e-d79771a2fa56",
   "metadata": {},
   "outputs": [],
   "source": [
    "my_list.remove('banana')"
   ]
  },
  {
   "cell_type": "code",
   "execution_count": 173,
   "id": "951638b0-979a-4ee9-b0d7-be0e505a2ace",
   "metadata": {},
   "outputs": [],
   "source": [
    "my_list.append(\"Cup\")"
   ]
  },
  {
   "cell_type": "code",
   "execution_count": 175,
   "id": "390895aa-72f4-4301-94e9-50548554ab1b",
   "metadata": {},
   "outputs": [
    {
     "data": {
      "text/plain": [
       "['shoes', 'land', 'iphone-16', 'samsung', 'banana', 'shirt', 'Cup']"
      ]
     },
     "execution_count": 175,
     "metadata": {},
     "output_type": "execute_result"
    }
   ],
   "source": [
    "my_list"
   ]
  },
  {
   "cell_type": "code",
   "execution_count": 177,
   "id": "24c87393-8575-49ba-86e5-1276cfc2a536",
   "metadata": {},
   "outputs": [],
   "source": [
    "# the remove method delete a specified element allowing strings \n",
    "my_list.remove('shirt')"
   ]
  },
  {
   "cell_type": "code",
   "execution_count": 179,
   "id": "5e8a29cf-3fc0-43fc-8ee9-cb4c876e6212",
   "metadata": {},
   "outputs": [
    {
     "data": {
      "text/plain": [
       "['shoes', 'land', 'iphone-16', 'samsung', 'banana', 'Cup']"
      ]
     },
     "execution_count": 179,
     "metadata": {},
     "output_type": "execute_result"
    }
   ],
   "source": [
    "my_list"
   ]
  },
  {
   "cell_type": "markdown",
   "id": "0494826d-b82c-4f33-aa00-f2bb1ef9375e",
   "metadata": {},
   "source": [
    "# Clear methods\n",
    "- the clear method is to clear all the lists "
   ]
  },
  {
   "cell_type": "code",
   "execution_count": null,
   "id": "c84abd5e-40b4-440b-92d3-c02abc3a50b4",
   "metadata": {},
   "outputs": [],
   "source": []
  },
  {
   "cell_type": "markdown",
   "id": "5564cdd4-ed2b-473a-af7a-29f57a668507",
   "metadata": {},
   "source": [
    "### Insert Method\n"
   ]
  },
  {
   "cell_type": "code",
   "execution_count": 181,
   "id": "4b47b08d-4ca1-43c2-b902-37c3e1386fdd",
   "metadata": {},
   "outputs": [],
   "source": [
    "# The insert method put an element at a paticular index\n",
    "shopping_list.insert(5, \"Eggs\")"
   ]
  },
  {
   "cell_type": "code",
   "execution_count": 185,
   "id": "478e5946-ccf9-4592-a100-4504b450dff3",
   "metadata": {},
   "outputs": [
    {
     "data": {
      "text/plain": [
       "['Mango',\n",
       " 'Tomatoes',\n",
       " 'Pasta',\n",
       " 'Noodles',\n",
       " 'Rice',\n",
       " 'Eggs',\n",
       " 'beans',\n",
       " 'perfume',\n",
       " 'ice-cream',\n",
       " 'groundnut']"
      ]
     },
     "execution_count": 185,
     "metadata": {},
     "output_type": "execute_result"
    }
   ],
   "source": [
    "shopping_list"
   ]
  },
  {
   "cell_type": "markdown",
   "id": "7cfcf409-c3d0-488e-ad35-7bde9a70ce38",
   "metadata": {},
   "source": [
    "### Sort Method"
   ]
  },
  {
   "cell_type": "code",
   "execution_count": 190,
   "id": "208d9a36-629a-4054-821e-0141fcc597e1",
   "metadata": {},
   "outputs": [],
   "source": [
    "shopping_list.extend([\"apple\", \"Egg\"])"
   ]
  },
  {
   "cell_type": "code",
   "execution_count": 188,
   "id": "146858ef-ca22-4c49-bf53-369dc1f3d474",
   "metadata": {},
   "outputs": [],
   "source": [
    "# The sort method sort the list from the smallest to the largest\n",
    "# It gives priority to the uppercase letter while sorting alphabets\n",
    "shopping_list.sort()"
   ]
  },
  {
   "cell_type": "code",
   "execution_count": null,
   "id": "e63ede93-a9bc-4639-ad81-d593b4c8b7c2",
   "metadata": {},
   "outputs": [],
   "source": []
  },
  {
   "cell_type": "code",
   "execution_count": null,
   "id": "c2dab2c0-55b9-4c20-8860-60417e940a91",
   "metadata": {},
   "outputs": [],
   "source": [
    "shopping_list.sort()"
   ]
  },
  {
   "cell_type": "markdown",
   "id": "5834b940-8daa-4d93-9aed-687b3596da65",
   "metadata": {},
   "source": [
    "#### List Comprehension\n",
    "List comprehension is a short and easy way of creating a new list using for loop"
   ]
  },
  {
   "cell_type": "code",
   "execution_count": 196,
   "id": "3be93c2f-227f-4ea1-a66c-5445b49142aa",
   "metadata": {},
   "outputs": [
    {
     "data": {
      "text/plain": [
       "['E', 'r', 'i', 'n', 'o', 'l', 'a']"
      ]
     },
     "execution_count": 196,
     "metadata": {},
     "output_type": "execute_result"
    }
   ],
   "source": [
    "[i for i in \"Erinola\"]"
   ]
  },
  {
   "cell_type": "code",
   "execution_count": 200,
   "id": "75b51784-75fc-4582-8365-6e9ed31d5a9f",
   "metadata": {},
   "outputs": [
    {
     "data": {
      "text/plain": [
       "['E', 'R', 'I', 'N', 'O', 'L', 'A']"
      ]
     },
     "execution_count": 200,
     "metadata": {},
     "output_type": "execute_result"
    }
   ],
   "source": [
    "[i.upper() for i in \"Erinola\"]"
   ]
  },
  {
   "cell_type": "markdown",
   "id": "342b8f64-d845-4965-b13b-5ba9c89bbefc",
   "metadata": {},
   "source": [
    "6. Creare a list called breafast from the string egg fruit, organge juice using the string .split() Method.\n",
    "7. Verify that breakfast has three items using len()\n",
    "8. Create a new list called lenths using a lisr comprehension that contain the lengths of each string in the breakfast list"
   ]
  },
  {
   "cell_type": "code",
   "execution_count": 206,
   "id": "e8421e26-ef42-465d-8f5e-d2288fc6f4e5",
   "metadata": {},
   "outputs": [],
   "source": [
    "Breakfast = \"Egg, fruit, orange juice\".split(\",\")"
   ]
  },
  {
   "cell_type": "code",
   "execution_count": 208,
   "id": "3594772a-6dba-4de8-84e6-ff5100163aae",
   "metadata": {},
   "outputs": [
    {
     "data": {
      "text/plain": [
       "['Egg', ' fruit', ' orange juice']"
      ]
     },
     "execution_count": 208,
     "metadata": {},
     "output_type": "execute_result"
    }
   ],
   "source": [
    "Breakfast"
   ]
  },
  {
   "cell_type": "code",
   "execution_count": 210,
   "id": "c6233e85-8f5c-46ac-b868-d7023e45c830",
   "metadata": {},
   "outputs": [
    {
     "data": {
      "text/plain": [
       "3"
      ]
     },
     "execution_count": 210,
     "metadata": {},
     "output_type": "execute_result"
    }
   ],
   "source": [
    "len(Breakfast)"
   ]
  },
  {
   "cell_type": "code",
   "execution_count": 214,
   "id": "830269b3-68e2-4e72-8963-9711576709d0",
   "metadata": {},
   "outputs": [],
   "source": [
    "length = [i for i in Breakfast]"
   ]
  },
  {
   "cell_type": "code",
   "execution_count": 216,
   "id": "e3fd1896-fbcc-44b8-9456-565b6de4f7e8",
   "metadata": {},
   "outputs": [
    {
     "data": {
      "text/plain": [
       "['Egg', ' fruit', ' orange juice']"
      ]
     },
     "execution_count": 216,
     "metadata": {},
     "output_type": "execute_result"
    }
   ],
   "source": [
    "length"
   ]
  },
  {
   "cell_type": "code",
   "execution_count": 228,
   "id": "e3f6397b-9b90-49b5-ba31-bad2bf8252de",
   "metadata": {},
   "outputs": [],
   "source": [
    "length = [len(i) for i in Breakfast]"
   ]
  },
  {
   "cell_type": "code",
   "execution_count": 230,
   "id": "0f0bd432-9328-4776-9a54-f10d9905d891",
   "metadata": {},
   "outputs": [
    {
     "data": {
      "text/plain": [
       "[3, 6, 13]"
      ]
     },
     "execution_count": 230,
     "metadata": {},
     "output_type": "execute_result"
    }
   ],
   "source": [
    "length"
   ]
  },
  {
   "cell_type": "markdown",
   "id": "fc28c09f-6056-4232-8297-a763c13de02e",
   "metadata": {},
   "source": [
    "### Function Method\n",
    "Function in python allow us to resue a blook of code, any time in our workflow. function in python are define by 'def' keyword"
   ]
  },
  {
   "cell_type": "code",
   "execution_count": 235,
   "id": "92be94c4-00eb-4cb9-bb5c-1e07ebd07cf4",
   "metadata": {},
   "outputs": [],
   "source": [
    "def greet():\n",
    "    return \"Hello! Welcome to Go My Code\""
   ]
  },
  {
   "cell_type": "code",
   "execution_count": 237,
   "id": "3baba146-e59c-4002-8a79-306fb26dc66e",
   "metadata": {},
   "outputs": [
    {
     "data": {
      "text/plain": [
       "'Hello! Welcome to Go My Code'"
      ]
     },
     "execution_count": 237,
     "metadata": {},
     "output_type": "execute_result"
    }
   ],
   "source": [
    "greet()"
   ]
  },
  {
   "cell_type": "code",
   "execution_count": 239,
   "id": "183d9835-320b-4551-ac19-3248a16a61c3",
   "metadata": {},
   "outputs": [],
   "source": [
    "def PinCode():\n",
    "    return \"8567\""
   ]
  },
  {
   "cell_type": "code",
   "execution_count": 245,
   "id": "121e5604-c2e5-4d52-a28a-530fe001a93b",
   "metadata": {},
   "outputs": [
    {
     "data": {
      "text/plain": [
       "'8567'"
      ]
     },
     "execution_count": 245,
     "metadata": {},
     "output_type": "execute_result"
    }
   ],
   "source": [
    "PinCode()"
   ]
  },
  {
   "cell_type": "code",
   "execution_count": 259,
   "id": "0f13574c-13ad-4c07-b0e0-8227984b3353",
   "metadata": {},
   "outputs": [],
   "source": [
    "def PinCode():\n",
    "    Pin = int(input(\"enter your pin: \"))\n",
    "    code = '8567'\n",
    "    if code == Pin:\n",
    "        return \"Password correct!\"\n",
    "    else:\n",
    "        return \"Incorrect Pin!!\""
   ]
  },
  {
   "cell_type": "code",
   "execution_count": null,
   "id": "5616e2f7-0ce7-4b58-b05c-ea1c21c365c3",
   "metadata": {},
   "outputs": [],
   "source": []
  },
  {
   "cell_type": "code",
   "execution_count": 261,
   "id": "e1eec970-0562-42a8-a31d-6991085dd997",
   "metadata": {},
   "outputs": [
    {
     "name": "stdin",
     "output_type": "stream",
     "text": [
      "enter your pin:  8567\n"
     ]
    },
    {
     "data": {
      "text/plain": [
       "'Incorrect Pin!!'"
      ]
     },
     "execution_count": 261,
     "metadata": {},
     "output_type": "execute_result"
    }
   ],
   "source": [
    "PinCode()"
   ]
  },
  {
   "cell_type": "markdown",
   "id": "5584b2b6-35c5-4d8d-be53-34a0458ecac6",
   "metadata": {},
   "source": [
    "## Function with Parameter"
   ]
  },
  {
   "cell_type": "code",
   "execution_count": null,
   "id": "88cfaad1-ca8d-4f31-a75c-455d00b043fb",
   "metadata": {},
   "outputs": [],
   "source": []
  },
  {
   "cell_type": "markdown",
   "id": "2e7599cd-3328-4e08-95a4-db79eb608760",
   "metadata": {},
   "source": [
    "### Tuple\n",
    "Tuple are immutable data structure in python. That means this type of data\n",
    "structure cannot be changed, one decleared tuple are created using round brackets"
   ]
  },
  {
   "cell_type": "code",
   "execution_count": 271,
   "id": "5b2ae875-ac84-4627-8895-9c22e118a724",
   "metadata": {},
   "outputs": [],
   "source": [
    "point = (3, 5)"
   ]
  },
  {
   "cell_type": "code",
   "execution_count": 273,
   "id": "0cc41cab-0f76-4dd5-8e16-9b7e29b6e297",
   "metadata": {},
   "outputs": [],
   "source": [
    "# To declare a tuple, you only need to add a comma\n",
    "# to your element\n",
    "number = 3, "
   ]
  },
  {
   "cell_type": "code",
   "execution_count": 275,
   "id": "c5a2418f-7c6b-442f-a4ea-fd9ff8877ca7",
   "metadata": {},
   "outputs": [
    {
     "data": {
      "text/plain": [
       "tuple"
      ]
     },
     "execution_count": 275,
     "metadata": {},
     "output_type": "execute_result"
    }
   ],
   "source": [
    "type(number)"
   ]
  },
  {
   "cell_type": "code",
   "execution_count": 277,
   "id": "be2585aa-88b6-4c4a-be4c-996201049a35",
   "metadata": {},
   "outputs": [
    {
     "data": {
      "text/plain": [
       "('Eggs',\n",
       " 'Mango',\n",
       " 'Noodles',\n",
       " 'Pasta',\n",
       " 'Rice',\n",
       " 'Tomatoes',\n",
       " 'beans',\n",
       " 'groundnut',\n",
       " 'ice-cream',\n",
       " 'perfume',\n",
       " 'apple',\n",
       " 'Egg')"
      ]
     },
     "execution_count": 277,
     "metadata": {},
     "output_type": "execute_result"
    }
   ],
   "source": [
    "# Creating a tuple from a list\n",
    "tuple(shopping_list)"
   ]
  },
  {
   "cell_type": "code",
   "execution_count": 279,
   "id": "2bf040bc-f71c-4070-93c2-bf29a1cfe989",
   "metadata": {},
   "outputs": [
    {
     "ename": "TypeError",
     "evalue": "'tuple' object does not support item assignment",
     "output_type": "error",
     "traceback": [
      "\u001b[1;31m---------------------------------------------------------------------------\u001b[0m",
      "\u001b[1;31mTypeError\u001b[0m                                 Traceback (most recent call last)",
      "Cell \u001b[1;32mIn[279], line 2\u001b[0m\n\u001b[0;32m      1\u001b[0m \u001b[38;5;66;03m# Because tup;es are not change, thet have the limited me\u001b[39;00m\n\u001b[1;32m----> 2\u001b[0m point[\u001b[38;5;241m0\u001b[39m] \u001b[38;5;241m=\u001b[39m \u001b[38;5;241m4\u001b[39m\n",
      "\u001b[1;31mTypeError\u001b[0m: 'tuple' object does not support item assignment"
     ]
    }
   ],
   "source": [
    "# Because tup;es are not change, thet have the limited me\n",
    "point[0] = 4"
   ]
  },
  {
   "cell_type": "code",
   "execution_count": 298,
   "id": "21266955-120f-4453-ae56-609710d6e39f",
   "metadata": {},
   "outputs": [],
   "source": [
    "# Indexing and slicing tuple\n",
    "point = (3, 5, 7, 9, 12, 5)"
   ]
  },
  {
   "cell_type": "code",
   "execution_count": 283,
   "id": "450e715d-2f1b-4103-b337-5c65c502ab99",
   "metadata": {},
   "outputs": [
    {
     "data": {
      "text/plain": [
       "3"
      ]
     },
     "execution_count": 283,
     "metadata": {},
     "output_type": "execute_result"
    }
   ],
   "source": [
    "point[0]"
   ]
  },
  {
   "cell_type": "code",
   "execution_count": 289,
   "id": "b9ab5c66-5c67-456d-9cf0-2e6c06aebdb5",
   "metadata": {},
   "outputs": [
    {
     "data": {
      "text/plain": [
       "12"
      ]
     },
     "execution_count": 289,
     "metadata": {},
     "output_type": "execute_result"
    }
   ],
   "source": [
    "point[-1]"
   ]
  },
  {
   "cell_type": "code",
   "execution_count": 294,
   "id": "de0fd803-ee5b-4908-94f5-cf0afae4875a",
   "metadata": {},
   "outputs": [
    {
     "data": {
      "text/plain": [
       "(7, 9)"
      ]
     },
     "execution_count": 294,
     "metadata": {},
     "output_type": "execute_result"
    }
   ],
   "source": [
    "point[2:4]"
   ]
  },
  {
   "cell_type": "code",
   "execution_count": 300,
   "id": "2815ca32-62fd-4769-a6be-4e85881ab9cb",
   "metadata": {},
   "outputs": [
    {
     "data": {
      "text/plain": [
       "2"
      ]
     },
     "execution_count": 300,
     "metadata": {},
     "output_type": "execute_result"
    }
   ],
   "source": [
    "# Tuple methods\n",
    "point.count(5)"
   ]
  },
  {
   "cell_type": "code",
   "execution_count": 302,
   "id": "39bcbfba-486e-4703-b755-cbc90287d4cd",
   "metadata": {},
   "outputs": [
    {
     "name": "stdout",
     "output_type": "stream",
     "text": [
      "(3, 5, 7, 9, 12, 5)\n"
     ]
    }
   ],
   "source": [
    "# Unpacking  tuple\n",
    "print(point)\n",
    "a, b, c, d, e, f = point"
   ]
  },
  {
   "cell_type": "code",
   "execution_count": 304,
   "id": "dbebe6ba-d09b-40d2-98ea-2567fba857df",
   "metadata": {},
   "outputs": [
    {
     "data": {
      "text/plain": [
       "3"
      ]
     },
     "execution_count": 304,
     "metadata": {},
     "output_type": "execute_result"
    }
   ],
   "source": [
    "a"
   ]
  },
  {
   "cell_type": "code",
   "execution_count": 306,
   "id": "15de1e6d-0f66-4b19-b9c3-84792ae22d44",
   "metadata": {},
   "outputs": [
    {
     "data": {
      "text/plain": [
       "5"
      ]
     },
     "execution_count": 306,
     "metadata": {},
     "output_type": "execute_result"
    }
   ],
   "source": [
    "b"
   ]
  },
  {
   "cell_type": "code",
   "execution_count": 308,
   "id": "2e81d9b2-8fab-4f29-b71d-99424bfe001f",
   "metadata": {},
   "outputs": [
    {
     "data": {
      "text/plain": [
       "7"
      ]
     },
     "execution_count": 308,
     "metadata": {},
     "output_type": "execute_result"
    }
   ],
   "source": [
    "c\n"
   ]
  },
  {
   "cell_type": "markdown",
   "id": "125554bd-79e8-4802-b793-f388718b8348",
   "metadata": {},
   "source": [
    "### Set\n",
    "Sets are unordered collections of unique elements. They are commonly used to perform mathematical\n",
    "set operations like union, intersection, and difference"
   ]
  },
  {
   "cell_type": "code",
   "execution_count": 313,
   "id": "a60d7697-5eec-44a8-a922-94b49206e2cd",
   "metadata": {},
   "outputs": [],
   "source": [
    "# Creating a set\n",
    "my_set = {1, 2, 3, 4, 5}"
   ]
  },
  {
   "cell_type": "code",
   "execution_count": 315,
   "id": "38c7b77c-52be-4352-9b7f-bc9d0ac4da5b",
   "metadata": {},
   "outputs": [
    {
     "data": {
      "text/plain": [
       "{1, 2, 3, 4, 5}"
      ]
     },
     "execution_count": 315,
     "metadata": {},
     "output_type": "execute_result"
    }
   ],
   "source": [
    "my_set"
   ]
  },
  {
   "cell_type": "code",
   "execution_count": 319,
   "id": "2005703a-8a19-4202-ae20-20c36ac36a26",
   "metadata": {},
   "outputs": [],
   "source": [
    "# set method\n",
    "my_set.add(6)"
   ]
  },
  {
   "cell_type": "code",
   "execution_count": 321,
   "id": "22e9de45-0113-4bd1-907c-9c3307d5b449",
   "metadata": {},
   "outputs": [
    {
     "data": {
      "text/plain": [
       "{1, 2, 3, 4, 5, 6}"
      ]
     },
     "execution_count": 321,
     "metadata": {},
     "output_type": "execute_result"
    }
   ],
   "source": [
    "my_set"
   ]
  },
  {
   "cell_type": "code",
   "execution_count": 327,
   "id": "d9129c03-e5d7-4f66-9951-f03f8c643a9c",
   "metadata": {},
   "outputs": [],
   "source": [
    "# To add more than one numbers\n",
    "my_set.update({7, 8, 9, 10, 11})"
   ]
  },
  {
   "cell_type": "code",
   "execution_count": 329,
   "id": "a40098a7-a7ca-4102-94bb-4d786be0c2f1",
   "metadata": {},
   "outputs": [
    {
     "data": {
      "text/plain": [
       "{1, 2, 3, 4, 5, 6, 7, 8, 9, 10, 11}"
      ]
     },
     "execution_count": 329,
     "metadata": {},
     "output_type": "execute_result"
    }
   ],
   "source": [
    "my_set"
   ]
  },
  {
   "cell_type": "code",
   "execution_count": 331,
   "id": "692d8509-0b7c-42ff-bf7b-b145ed99acfb",
   "metadata": {},
   "outputs": [],
   "source": [
    "my_set1 = my_set.copy()"
   ]
  },
  {
   "cell_type": "code",
   "execution_count": 333,
   "id": "fa1b0504-526e-4071-ae18-498fb601f8f7",
   "metadata": {},
   "outputs": [
    {
     "data": {
      "text/plain": [
       "{1, 2, 3, 4, 5, 6, 7, 8, 9, 10, 11}"
      ]
     },
     "execution_count": 333,
     "metadata": {},
     "output_type": "execute_result"
    }
   ],
   "source": [
    "my_set1"
   ]
  },
  {
   "cell_type": "code",
   "execution_count": 348,
   "id": "3dcae181-1486-42bb-8116-aef9b6450e67",
   "metadata": {},
   "outputs": [],
   "source": [
    "my_set.remove(7)"
   ]
  },
  {
   "cell_type": "code",
   "execution_count": 350,
   "id": "97ba8676-5839-4bb1-9402-2ade97bdb994",
   "metadata": {},
   "outputs": [
    {
     "data": {
      "text/plain": [
       "{1, 2, 3, 4, 5, 6, 8, 9, 11}"
      ]
     },
     "execution_count": 350,
     "metadata": {},
     "output_type": "execute_result"
    }
   ],
   "source": [
    "my_set"
   ]
  },
  {
   "cell_type": "code",
   "execution_count": 352,
   "id": "642cda34-d846-4389-a9a2-f2c21f0838cb",
   "metadata": {},
   "outputs": [
    {
     "data": {
      "text/plain": [
       "{1, 2, 3, 4, 5, 6, 7, 8, 9, 10, 11}"
      ]
     },
     "execution_count": 352,
     "metadata": {},
     "output_type": "execute_result"
    }
   ],
   "source": [
    "my_set1"
   ]
  },
  {
   "cell_type": "code",
   "execution_count": 354,
   "id": "65bccfe7-2de6-4c65-8e3e-c298c8860e7e",
   "metadata": {},
   "outputs": [
    {
     "name": "stdout",
     "output_type": "stream",
     "text": [
      "{1, 2, 3, 4, 5, 6, 8, 9, 11}\n",
      "{1, 2, 3, 4, 5, 6, 7, 8, 9, 10, 11}\n"
     ]
    }
   ],
   "source": [
    "print(my_set)\n",
    "print(my_set1)"
   ]
  },
  {
   "cell_type": "markdown",
   "id": "2a394883-2d2a-4bcd-adb5-034fc2e99d27",
   "metadata": {},
   "source": [
    "### Dictionaries\n",
    "Dictonaryis anther python data sturcture for mapping relationship between sets data.dictionaries aee donarted by curly\n",
    "braces with keys and paor values in them"
   ]
  },
  {
   "cell_type": "code",
   "execution_count": 3,
   "id": "3b8ede48-5d22-4023-8fe4-4440febcd77b",
   "metadata": {},
   "outputs": [],
   "source": [
    "# Creating a dictionary\n",
    "my_dict = {\"name\": \"Alice\", \"Age\": 30,\n",
    "           \"city\": \"New York\", \"State\": \"NY\", \"CarModel\": \"Benz\", \"OwnersName\": \"Erinola\"}"
   ]
  },
  {
   "cell_type": "code",
   "execution_count": 5,
   "id": "3faf0456-467b-4932-9459-dd86563f740c",
   "metadata": {},
   "outputs": [
    {
     "data": {
      "text/plain": [
       "{'name': 'Alice',\n",
       " 'Age': 30,\n",
       " 'city': 'New York',\n",
       " 'State': 'NY',\n",
       " 'CarModel': 'Benz',\n",
       " 'OwnersName': 'Erinola'}"
      ]
     },
     "execution_count": 5,
     "metadata": {},
     "output_type": "execute_result"
    }
   ],
   "source": [
    "my_dict"
   ]
  },
  {
   "cell_type": "code",
   "execution_count": 7,
   "id": "419b6568-baf0-46c7-8d23-2b93b67266dc",
   "metadata": {},
   "outputs": [
    {
     "data": {
      "text/plain": [
       "'Alice'"
      ]
     },
     "execution_count": 7,
     "metadata": {},
     "output_type": "execute_result"
    }
   ],
   "source": [
    "# Assessing values of dictionary\n",
    "my_dict[\"name\"]"
   ]
  },
  {
   "cell_type": "code",
   "execution_count": 9,
   "id": "4ff4d570-728e-4a30-9ab5-045db2af9117",
   "metadata": {},
   "outputs": [],
   "source": [
    "my_dict[\"name\"] = \"Temitope\""
   ]
  },
  {
   "cell_type": "code",
   "execution_count": 11,
   "id": "4c5418c1-ce1a-418a-8b78-054aac985181",
   "metadata": {},
   "outputs": [
    {
     "data": {
      "text/plain": [
       "{'name': 'Temitope',\n",
       " 'Age': 30,\n",
       " 'city': 'New York',\n",
       " 'State': 'NY',\n",
       " 'CarModel': 'Benz',\n",
       " 'OwnersName': 'Erinola'}"
      ]
     },
     "execution_count": 11,
     "metadata": {},
     "output_type": "execute_result"
    }
   ],
   "source": [
    "my_dict"
   ]
  },
  {
   "cell_type": "code",
   "execution_count": 13,
   "id": "9e1bcc05-3cdc-4fd8-abb0-05b566a8d64a",
   "metadata": {},
   "outputs": [],
   "source": [
    "# The Copy method, copies items in one dictionary to \n",
    "sample = my_dict.copy()"
   ]
  },
  {
   "cell_type": "code",
   "execution_count": 15,
   "id": "aa7b721b-ea2f-4433-8d87-4f5a8e05bf02",
   "metadata": {},
   "outputs": [
    {
     "data": {
      "text/plain": [
       "{'name': 'Temitope',\n",
       " 'Age': 30,\n",
       " 'city': 'New York',\n",
       " 'State': 'NY',\n",
       " 'CarModel': 'Benz',\n",
       " 'OwnersName': 'Erinola'}"
      ]
     },
     "execution_count": 15,
     "metadata": {},
     "output_type": "execute_result"
    }
   ],
   "source": [
    "sample"
   ]
  },
  {
   "cell_type": "code",
   "execution_count": 17,
   "id": "52ee7884-5d1d-45c0-ada6-69ac160a5ac7",
   "metadata": {},
   "outputs": [
    {
     "data": {
      "text/plain": [
       "30"
      ]
     },
     "execution_count": 17,
     "metadata": {},
     "output_type": "execute_result"
    }
   ],
   "source": [
    "my_dict.get(\"Age\")"
   ]
  },
  {
   "cell_type": "code",
   "execution_count": 19,
   "id": "8aa744d9-d14c-40f2-a0d0-b3a0e3bfb8b6",
   "metadata": {},
   "outputs": [],
   "source": [
    "my_dict[\"name\"] = \"Erinola\""
   ]
  },
  {
   "cell_type": "code",
   "execution_count": 21,
   "id": "5f307b3b-eb83-459a-845f-39b77419fcb6",
   "metadata": {},
   "outputs": [
    {
     "data": {
      "text/plain": [
       "dict_items([('name', 'Erinola'), ('Age', 30), ('city', 'New York'), ('State', 'NY'), ('CarModel', 'Benz'), ('OwnersName', 'Erinola')])"
      ]
     },
     "execution_count": 21,
     "metadata": {},
     "output_type": "execute_result"
    }
   ],
   "source": [
    "my_dict.items()"
   ]
  },
  {
   "cell_type": "code",
   "execution_count": 23,
   "id": "2c674968-ef59-41b6-af09-116ad27c5d72",
   "metadata": {},
   "outputs": [
    {
     "name": "stdout",
     "output_type": "stream",
     "text": [
      "Erinola\n",
      "30\n",
      "New York\n",
      "NY\n",
      "Benz\n",
      "Erinola\n"
     ]
    }
   ],
   "source": [
    "for i, y in my_dict.items():\n",
    "    print(y)"
   ]
  },
  {
   "cell_type": "code",
   "execution_count": 25,
   "id": "2359205b-f6be-4aaf-9c53-5e8abd6c492a",
   "metadata": {},
   "outputs": [
    {
     "name": "stdout",
     "output_type": "stream",
     "text": [
      "name Erinola\n",
      "Age 30\n",
      "city New York\n",
      "State NY\n",
      "CarModel Benz\n",
      "OwnersName Erinola\n"
     ]
    }
   ],
   "source": [
    "for key, value in my_dict.items():\n",
    "    print(key, value)"
   ]
  },
  {
   "cell_type": "code",
   "execution_count": 31,
   "id": "9b6ec3c0-ae86-489f-bc60-2338b1b2a027",
   "metadata": {},
   "outputs": [],
   "source": [
    "import pandas as pd"
   ]
  },
  {
   "cell_type": "code",
   "execution_count": 33,
   "id": "34a4478b-acd2-4eaf-9033-33e51b25024b",
   "metadata": {},
   "outputs": [
    {
     "data": {
      "text/html": [
       "<div>\n",
       "<style scoped>\n",
       "    .dataframe tbody tr th:only-of-type {\n",
       "        vertical-align: middle;\n",
       "    }\n",
       "\n",
       "    .dataframe tbody tr th {\n",
       "        vertical-align: top;\n",
       "    }\n",
       "\n",
       "    .dataframe thead th {\n",
       "        text-align: right;\n",
       "    }\n",
       "</style>\n",
       "<table border=\"1\" class=\"dataframe\">\n",
       "  <thead>\n",
       "    <tr style=\"text-align: right;\">\n",
       "      <th></th>\n",
       "      <th>name</th>\n",
       "      <th>Age</th>\n",
       "      <th>city</th>\n",
       "      <th>State</th>\n",
       "      <th>CarModel</th>\n",
       "      <th>OwnersName</th>\n",
       "    </tr>\n",
       "  </thead>\n",
       "  <tbody>\n",
       "    <tr>\n",
       "      <th>1</th>\n",
       "      <td>Erinola</td>\n",
       "      <td>30</td>\n",
       "      <td>New York</td>\n",
       "      <td>NY</td>\n",
       "      <td>Benz</td>\n",
       "      <td>Erinola</td>\n",
       "    </tr>\n",
       "  </tbody>\n",
       "</table>\n",
       "</div>"
      ],
      "text/plain": [
       "      name  Age      city State CarModel OwnersName\n",
       "1  Erinola   30  New York    NY     Benz    Erinola"
      ]
     },
     "execution_count": 33,
     "metadata": {},
     "output_type": "execute_result"
    }
   ],
   "source": [
    "pd.DataFrame(my_dict, index=range(1, 2, 3))"
   ]
  },
  {
   "cell_type": "code",
   "execution_count": 39,
   "id": "490643db-94d8-46ca-89f7-fdddf848e2da",
   "metadata": {},
   "outputs": [
    {
     "name": "stdout",
     "output_type": "stream",
     "text": [
      "name Erinola\n",
      "Age 30\n",
      "city New York\n",
      "State NY\n",
      "CarModel Benz\n",
      "OwnersName Erinola\n"
     ]
    }
   ],
   "source": [
    "# The item method returns both the key and the \n",
    "# Value of dictionary in a tuple-like format\n",
    "for key, value in my_dict.items():\n",
    "    print(key, value)"
   ]
  },
  {
   "cell_type": "code",
   "execution_count": 41,
   "id": "00b0b09d-ddbe-4939-88d8-3da22219a22e",
   "metadata": {},
   "outputs": [
    {
     "data": {
      "text/plain": [
       "dict_keys(['name', 'Age', 'city', 'State', 'CarModel', 'OwnersName'])"
      ]
     },
     "execution_count": 41,
     "metadata": {},
     "output_type": "execute_result"
    }
   ],
   "source": [
    "# The key method returns all the key in the dictionary\n",
    "my_dict.keys()"
   ]
  },
  {
   "cell_type": "code",
   "execution_count": 43,
   "id": "fdac47c6-0c66-496c-8ef0-1021d5ff923a",
   "metadata": {},
   "outputs": [
    {
     "data": {
      "text/plain": [
       "dict_values(['Erinola', 30, 'New York', 'NY', 'Benz', 'Erinola'])"
      ]
     },
     "execution_count": 43,
     "metadata": {},
     "output_type": "execute_result"
    }
   ],
   "source": [
    "# The Values method returns all the values in the dictionary\n",
    "my_dict.values()"
   ]
  },
  {
   "cell_type": "code",
   "execution_count": 47,
   "id": "ef5aa62d-8810-49fc-9a99-50d85efe0970",
   "metadata": {},
   "outputs": [
    {
     "data": {
      "text/plain": [
       "('OwnersName', 'Erinola')"
      ]
     },
     "execution_count": 47,
     "metadata": {},
     "output_type": "execute_result"
    }
   ],
   "source": [
    "# the pop-item method remove the last item from the item\n",
    "my_dict.popitem()"
   ]
  },
  {
   "cell_type": "code",
   "execution_count": 49,
   "id": "f6d9fc1a-c20d-4b8a-bef3-d2c8999f8af9",
   "metadata": {},
   "outputs": [
    {
     "data": {
      "text/plain": [
       "{'name': 'Erinola',\n",
       " 'Age': 30,\n",
       " 'city': 'New York',\n",
       " 'State': 'NY',\n",
       " 'CarModel': 'Benz'}"
      ]
     },
     "execution_count": 49,
     "metadata": {},
     "output_type": "execute_result"
    }
   ],
   "source": [
    "my_dict"
   ]
  },
  {
   "cell_type": "code",
   "execution_count": 55,
   "id": "887c76d2-66e8-45c4-ad0c-32747fa8a16d",
   "metadata": {},
   "outputs": [
    {
     "data": {
      "text/plain": [
       "'Male'"
      ]
     },
     "execution_count": 55,
     "metadata": {},
     "output_type": "execute_result"
    }
   ],
   "source": [
    "# The setdefault method is to set key and value for the \n",
    "#dictionary\n",
    "sample.setdefault(\"Gender\", \"Male\")"
   ]
  },
  {
   "cell_type": "code",
   "execution_count": 65,
   "id": "9a247abc-9242-438f-ad23-9fca1614c4bf",
   "metadata": {},
   "outputs": [],
   "source": [
    "# The update method update an existing disctionary \n",
    "# with a new set of key value pair\n",
    "sample.update({\"color\" :\"black\", \"Gender\" :\"Male\", \"DriverLicense\" :\"EKY-678-90\"})"
   ]
  },
  {
   "cell_type": "code",
   "execution_count": 67,
   "id": "611b6b53-08ad-4c80-9f54-bf9f85f2f208",
   "metadata": {},
   "outputs": [
    {
     "data": {
      "text/plain": [
       "{'name': 'Temitope',\n",
       " 'Age': 30,\n",
       " 'city': 'New York',\n",
       " 'State': 'NY',\n",
       " 'CarModel': 'Benz',\n",
       " 'OwnersName': 'Erinola',\n",
       " 'Gender': 'Male',\n",
       " 'color': 'black',\n",
       " 'DriverLicense': 'EKY-678-90'}"
      ]
     },
     "execution_count": 67,
     "metadata": {},
     "output_type": "execute_result"
    }
   ],
   "source": [
    "sample"
   ]
  },
  {
   "cell_type": "code",
   "execution_count": null,
   "id": "a7ae863c-d525-4ea1-83d9-678d88a6c6fb",
   "metadata": {},
   "outputs": [],
   "source": []
  },
  {
   "cell_type": "code",
   "execution_count": 69,
   "id": "598d5f4a-bffb-46c2-8f17-92b8fac9b9e4",
   "metadata": {},
   "outputs": [],
   "source": [
    "captains = {}"
   ]
  },
  {
   "cell_type": "markdown",
   "id": "e6f254e5-b774-4fc5-b222-ed4e2543808c",
   "metadata": {},
   "source": [
    "1. Create an empty dictionary name captains.\n",
    "2. Using the square bracket notation, enter the following the dictionary, one item at a time:\n",
    "'Enterprise' : 'Picard'\n",
    "'Voyager' : 'Janeway'\n",
    "'Defiant' : 'Sisko'"
   ]
  },
  {
   "cell_type": "code",
   "execution_count": 76,
   "id": "3a1a7562-6f54-4e37-9220-f7301e5d21d1",
   "metadata": {},
   "outputs": [],
   "source": [
    "captains['Enterprise'] = \"Picard\"\n",
    "captains['Voyager'] = \"Janeway\"\n",
    "captains['Defiant'] = \"Sisko\""
   ]
  },
  {
   "cell_type": "code",
   "execution_count": 78,
   "id": "02078adb-f4ca-4c9f-8174-28cd98c83a15",
   "metadata": {},
   "outputs": [
    {
     "data": {
      "text/plain": [
       "{'Enterprise': 'Picard', 'Voyager': 'Janeway', 'Defiant': 'Sisko'}"
      ]
     },
     "execution_count": 78,
     "metadata": {},
     "output_type": "execute_result"
    }
   ],
   "source": [
    "captains"
   ]
  },
  {
   "cell_type": "code",
   "execution_count": null,
   "id": "1720df3d-d720-4347-9cad-eb4816004b51",
   "metadata": {},
   "outputs": [],
   "source": []
  }
 ],
 "metadata": {
  "kernelspec": {
   "display_name": "Python 3 (ipykernel)",
   "language": "python",
   "name": "python3"
  },
  "language_info": {
   "codemirror_mode": {
    "name": "ipython",
    "version": 3
   },
   "file_extension": ".py",
   "mimetype": "text/x-python",
   "name": "python",
   "nbconvert_exporter": "python",
   "pygments_lexer": "ipython3",
   "version": "3.12.7"
  }
 },
 "nbformat": 4,
 "nbformat_minor": 5
}
