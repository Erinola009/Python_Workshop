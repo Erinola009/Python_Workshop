{
 "cells": [
  {
   "cell_type": "markdown",
   "id": "650f2c4b-9e22-4a24-ace4-0a55a660d5b6",
   "metadata": {},
   "source": [
    "### OLALEKAN P ELEBUTE\n",
    "- PYTHON PROJECT|"
   ]
  },
  {
   "cell_type": "markdown",
   "id": "9b22c4f0-9cf5-4cba-95d4-3d32d42b2a2d",
   "metadata": {},
   "source": [
    "Instructions\n",
    "\n",
    "Steps : \n",
    "\n",
    "Web Scraping:\n",
    "\n",
    "    Utilize Python libraries such as BeautifulSoup to scrape product information from the online retailer's website.\n",
    "    Collect data attributes including product names, categories, prices, availability status, and promotional details.\n",
    "\n",
    "    Data Cleaning:\n",
    "     \n",
    "        Address missing or inconsistent data entries, such as absent prices or ambiguous product descriptions.\n",
    "        Standardize text fields to ensure uniformity in product names and categories.\n",
    "         \n",
    "    Data Transformation:\n",
    "     \n",
    "        Convert price data into numerical formats for analysis.\n",
    "        Categorize products into hierarchical groups (e.g., Electronics > Mobile Phones > Smartphones).\n",
    "         \n",
    "    Data Analysis:\n",
    "     \n",
    "        Conduct exploratory data analysis (EDA) to uncover insights:\n",
    "            Identify average pricing within each product category.\n",
    "            Detect seasonal or promotional pricing patterns.\n",
    "            Assess product availability trends over time.\n",
    "             \n",
    "    Data Visualization:\n",
    "     \n",
    "        Employ visualization library Plotly to create some charts."
   ]
  },
  {
   "cell_type": "code",
   "execution_count": null,
   "id": "a42052dd-dbfe-4b6f-9b40-d4d1e23f4d7c",
   "metadata": {},
   "outputs": [],
   "source": [
    "import pandas as pd\n",
    "from bs4 import BeautifulSoup\n",
    "import requests"
   ]
  },
  {
   "cell_type": "code",
   "execution_count": null,
   "id": "e83eb962-bb48-4efd-b238-24621d670b2b",
   "metadata": {},
   "outputs": [],
   "source": [
    "#webscrapping the jumia website for a single product\n",
    "url =\"https://www.jumia.com.ng/dr-teals-aroma-energy-body-scrub-orange-454g-325477595.html\"\n",
    "jumia = requests.get(url)\n",
    "jumia.content"
   ]
  },
  {
   "cell_type": "code",
   "execution_count": null,
   "id": "91cbd5cb-c6d7-4adc-90fc-d8e5a2dfdc4c",
   "metadata": {},
   "outputs": [],
   "source": [
    "# Collect data attributes including product names, categories, prices, availability status, and promotional details.\n",
    "jm=BeautifulSoup(jumia.content,'html.parser')\n",
    "jm.prettify()"
   ]
  },
  {
   "cell_type": "code",
   "execution_count": null,
   "id": "04dbf8da-1296-421e-91e2-8e2ff1782d5f",
   "metadata": {},
   "outputs": [],
   "source": [
    "jm.find_all(\"title\")"
   ]
  },
  {
   "cell_type": "code",
   "execution_count": null,
   "id": "2bb17dc3-5b73-4e24-8edb-7d7f73818256",
   "metadata": {},
   "outputs": [],
   "source": [
    "prd_name = jm.h1.text"
   ]
  },
  {
   "cell_type": "code",
   "execution_count": null,
   "id": "60f61a07-8fa9-483e-bc95-560a7980a5f3",
   "metadata": {},
   "outputs": [],
   "source": [
    "prd_category=jm.find_all(class_=\"cbs\")[1].text"
   ]
  },
  {
   "cell_type": "code",
   "execution_count": null,
   "id": "795070a0-f13f-4df1-ab0b-fa3463d6e493",
   "metadata": {},
   "outputs": [],
   "source": [
    "prd_category"
   ]
  },
  {
   "cell_type": "code",
   "execution_count": null,
   "id": "840c6fcb-4e33-4b35-a3ed-057dbb0ccfb9",
   "metadata": {},
   "outputs": [],
   "source": [
    "prd_price=jm.find(class_=\"-b -ubpt -tal -fs24 -prxs\")\n",
    "jmmm.text"
   ]
  },
  {
   "cell_type": "code",
   "execution_count": null,
   "id": "74e7dd88-ae73-4be8-a06a-0d9b5d7df571",
   "metadata": {},
   "outputs": [],
   "source": [
    "prd_image=jm.find(class_=\"-fw -fh\")\n",
    "prd_image"
   ]
  },
  {
   "cell_type": "code",
   "execution_count": null,
   "id": "1c3200c5-eba8-486a-8a3d-601f02f3065d",
   "metadata": {},
   "outputs": [],
   "source": [
    "# web scrapping for a category of products\n",
    "link = \"https://www.jumia.com.ng/body-washes/\"\n",
    "link_read = requests.get(link)\n",
    "link_read.content"
   ]
  },
  {
   "cell_type": "code",
   "execution_count": null,
   "id": "575494d6-5a68-4777-aa13-4633cb8cb819",
   "metadata": {},
   "outputs": [],
   "source": [
    "res=BeautifulSoup(link_read.content,\"html.parser\")\n",
    "res.prettify()"
   ]
  },
  {
   "cell_type": "code",
   "execution_count": null,
   "id": "724dd1df-7e38-4e83-9cb3-dea2f88eb43f",
   "metadata": {},
   "outputs": [],
   "source": [
    "from bs4 import BeautifulSoup\n",
    "\n",
    "html = res.find_all(\"div\", class_=\"info\")\n",
    "\n",
    "# Initialize the list to hold parsed dictionaries\n",
    "products = []\n",
    "\n",
    "# Parse each HTML element\n",
    "for element in html:\n",
    "    soup = BeautifulSoup(str(element), 'html.parser')\n",
    "    \n",
    "    product_name = soup.find('h3', class_='name').get_text(strip=True) if soup.find('h3', class_='name') else None\n",
    "    \n",
    "    price = soup.find('div', class_='prc').get_text(strip=True) if soup.find('div', class_='prc') else None\n",
    "    \n",
    "    category = res.find_all(class_=\"cbs\")[3].get_text(strip=True) \n",
    "    if product_name and price:\n",
    "        products.append({\n",
    "            'product_name': product_name,\n",
    "            'price': price,\n",
    "            'category': category\n",
    "                         })\n",
    "\n",
    "skin=[]\n",
    "for product in products:\n",
    "    #print(product)\n",
    "    skin.append(product)\n"
   ]
  },
  {
   "cell_type": "code",
   "execution_count": null,
   "id": "596d5932-9de4-4c93-80c1-7aa71bc1910d",
   "metadata": {},
   "outputs": [],
   "source": [
    "skin"
   ]
  },
  {
   "cell_type": "code",
   "execution_count": null,
   "id": "941fc267-1b95-4f5a-a0f2-c473b1f8ddf8",
   "metadata": {},
   "outputs": [],
   "source": [
    "import pandas as pd\n"
   ]
  },
  {
   "cell_type": "code",
   "execution_count": null,
   "id": "b431db74-780e-40e3-8009-c410ed8f0b86",
   "metadata": {},
   "outputs": [],
   "source": [
    "skin_df=pd.DataFrame(skin)"
   ]
  },
  {
   "cell_type": "code",
   "execution_count": null,
   "id": "0d89c8d7-a6d0-47da-9fc0-0952215f0f2a",
   "metadata": {},
   "outputs": [],
   "source": [
    "skin_df"
   ]
  },
  {
   "cell_type": "code",
   "execution_count": null,
   "id": "6d070a4f-98ce-44ee-92fa-f81279db9cf8",
   "metadata": {},
   "outputs": [],
   "source": [
    "# check for missing values\n",
    "skin_df.isnull().sum()"
   ]
  },
  {
   "cell_type": "code",
   "execution_count": null,
   "id": "e18a484c-7783-4e12-80b9-56234956b118",
   "metadata": {},
   "outputs": [],
   "source": [
    "skin_df.dtypes"
   ]
  },
  {
   "cell_type": "code",
   "execution_count": null,
   "id": "1f527679-9ef2-4bee-b215-155feb3d9537",
   "metadata": {},
   "outputs": [],
   "source": [
    "# Convert price data into numerical formats for analysis.\n",
    "skin_df['price'] = skin_df['price'].str.replace('₦', '', regex=False) \n",
    "skin_df['price'] = skin_df['price'].str.replace(',', '', regex=False)  \n",
    "skin_df['price'] = pd.to_numeric(skin_df['price'])  \n",
    "\n",
    "print(skin_df)\n"
   ]
  },
  {
   "cell_type": "code",
   "execution_count": null,
   "id": "c7221bbf-70c3-40bf-a18b-b8cd4a2b1a6e",
   "metadata": {},
   "outputs": [],
   "source": [
    "# Identify average pricing within each product category.\n",
    "average_prices = skin_df.groupby('category')['price'].mean().reset_index()"
   ]
  },
  {
   "cell_type": "code",
   "execution_count": null,
   "id": "f5723d13-4a38-4100-91fd-f150f60bb996",
   "metadata": {},
   "outputs": [],
   "source": [
    "average_prices"
   ]
  },
  {
   "cell_type": "code",
   "execution_count": null,
   "id": "dd9dead6-b689-4a24-8275-ac6c47f0aaad",
   "metadata": {},
   "outputs": [],
   "source": [
    "import plotly.express as px"
   ]
  },
  {
   "cell_type": "code",
   "execution_count": null,
   "id": "3a024c43-de4b-4f1d-b95c-2b597faecacf",
   "metadata": {},
   "outputs": [],
   "source": [
    "skin_bar=px.bar(skin_df,x=\"product_name\",y=\"price\",color=\"price\",height=200)"
   ]
  },
  {
   "cell_type": "code",
   "execution_count": null,
   "id": "0f505611-67f1-4059-9716-30b0cede1ead",
   "metadata": {},
   "outputs": [],
   "source": [
    "skin_bar"
   ]
  },
  {
   "cell_type": "code",
   "execution_count": null,
   "id": "5fc9954a-9754-4156-b84f-8346b86005eb",
   "metadata": {},
   "outputs": [],
   "source": [
    "skin_df.price.max()"
   ]
  },
  {
   "cell_type": "code",
   "execution_count": null,
   "id": "d0226386-01e6-4595-b0b6-b081d521d794",
   "metadata": {},
   "outputs": [],
   "source": [
    "skin_df.groupby('category')['price'].max()\n"
   ]
  },
  {
   "cell_type": "code",
   "execution_count": null,
   "id": "3b88ed27-fe3e-4762-b135-e47f06f60824",
   "metadata": {},
   "outputs": [],
   "source": [
    "skin_bar.update_layout(title_text=\"skin care category\", xaxis_title=\"product_name\", yaxis_title=\"price\")"
   ]
  },
  {
   "cell_type": "code",
   "execution_count": null,
   "id": "21e55fa6-b96f-4ae2-8111-aeda87620d8f",
   "metadata": {},
   "outputs": [],
   "source": []
  }
 ],
 "metadata": {
  "kernelspec": {
   "display_name": "Python 3 (ipykernel)",
   "language": "python",
   "name": "python3"
  },
  "language_info": {
   "codemirror_mode": {
    "name": "ipython",
    "version": 3
   },
   "file_extension": ".py",
   "mimetype": "text/x-python",
   "name": "python",
   "nbconvert_exporter": "python",
   "pygments_lexer": "ipython3",
   "version": "3.12.7"
  }
 },
 "nbformat": 4,
 "nbformat_minor": 5
}
