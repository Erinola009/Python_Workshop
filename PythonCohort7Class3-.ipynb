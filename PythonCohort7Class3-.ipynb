{
 "cells": [
  {
   "cell_type": "markdown",
   "id": "803ef01f-6842-453a-befe-613c523458f5",
   "metadata": {},
   "source": [
    "### Scope of Varibale\n",
    "Variable define inside a functuon have the local scope of are only accessible within the function.\n",
    "Varibable define outside function have global scope."
   ]
  },
  {
   "cell_type": "code",
   "execution_count": 16,
   "id": "f9f85550-c787-432c-b439-3d932b089f02",
   "metadata": {},
   "outputs": [],
   "source": [
    "x = 10\n",
    "y = 5\n",
    "def my_function():\n",
    "    y = 5\n",
    "    z = 18\n",
    "    print(x + y + z)"
   ]
  },
  {
   "cell_type": "code",
   "execution_count": 18,
   "id": "2af4eea7-794b-41dc-93a2-cb24da7875d8",
   "metadata": {},
   "outputs": [
    {
     "name": "stdout",
     "output_type": "stream",
     "text": [
      "33\n"
     ]
    }
   ],
   "source": [
    "my_function()"
   ]
  },
  {
   "cell_type": "markdown",
   "id": "66312e21-0918-4239-a297-e7c86c51da8f",
   "metadata": {},
   "source": [
    "### Introduction ito lambda function\n",
    "In python, a lambda function is a small, anonymous function that can have a nuymber of argument\n",
    "but can only have one expression. lambda functuin are also known as anonymous function base they do not \n",
    "require a name like a regular function define using the [def] word"
   ]
  },
  {
   "cell_type": "code",
   "execution_count": 22,
   "id": "afb59dff-aebd-4cd4-817c-bb1c1e299eea",
   "metadata": {},
   "outputs": [],
   "source": [
    "add = lambda x, y, : x + y"
   ]
  },
  {
   "cell_type": "code",
   "execution_count": 24,
   "id": "cd91e64c-6853-4129-a019-6969100951d6",
   "metadata": {},
   "outputs": [
    {
     "data": {
      "text/plain": [
       "30"
      ]
     },
     "execution_count": 24,
     "metadata": {},
     "output_type": "execute_result"
    }
   ],
   "source": [
    "add(20, 10)"
   ]
  },
  {
   "cell_type": "markdown",
   "id": "407742b7-dcdf-4fb1-9dad-26c906f20433",
   "metadata": {},
   "source": [
    "### Using lambda with Built-in Functions\n"
   ]
  },
  {
   "cell_type": "code",
   "execution_count": 38,
   "id": "9b905a72-8383-4520-82d9-db09ad2bb76e",
   "metadata": {},
   "outputs": [
    {
     "data": {
      "text/plain": [
       "[(1, 9), (2, 7), (5, 3), (4, 1)]"
      ]
     },
     "execution_count": 38,
     "metadata": {},
     "output_type": "execute_result"
    }
   ],
   "source": [
    "# Sorting a list of tuples base on the secpmd elemenets usuing a lamba functions\n",
    "point = [(1, 9), (4, 1), (5, 3), (2, 7)]\n",
    "\n",
    "sorted(point, key = lambda x: x[1], reverse=True)"
   ]
  },
  {
   "cell_type": "code",
   "execution_count": 40,
   "id": "0e06264b-e0e4-45d5-a9a5-fbb04e4e4da0",
   "metadata": {},
   "outputs": [],
   "source": [
    "#Using lambda with filter to get even numbers from a list\n",
    "number = [1, 2, 3, 4, 5, 6, 7, 8, 9, 10]"
   ]
  },
  {
   "cell_type": "code",
   "execution_count": 42,
   "id": "14f44ccb-c63a-402a-ba50-1bcae46d5fd7",
   "metadata": {},
   "outputs": [
    {
     "name": "stdout",
     "output_type": "stream",
     "text": [
      "2\n",
      "4\n",
      "6\n",
      "8\n",
      "10\n"
     ]
    }
   ],
   "source": [
    "for i in number:\n",
    "    if i % 2 == 0:\n",
    "        print(i)"
   ]
  },
  {
   "cell_type": "code",
   "execution_count": 44,
   "id": "2af84bdf-a15d-497a-8cb2-65042f75d8a0",
   "metadata": {},
   "outputs": [
    {
     "data": {
      "text/plain": [
       "<function __main__.<lambda>(x)>"
      ]
     },
     "execution_count": 44,
     "metadata": {},
     "output_type": "execute_result"
    }
   ],
   "source": [
    "lambda x: x % 2 == 0"
   ]
  },
  {
   "cell_type": "code",
   "execution_count": 48,
   "id": "5e1a0c4a-3afc-4959-90bc-2776daa0ca48",
   "metadata": {},
   "outputs": [
    {
     "data": {
      "text/plain": [
       "[2, 4, 6, 8, 10]"
      ]
     },
     "execution_count": 48,
     "metadata": {},
     "output_type": "execute_result"
    }
   ],
   "source": [
    "list(filter(lambda x: x % 2 == 0, number))"
   ]
  },
  {
   "cell_type": "markdown",
   "id": "ef2e5e96-c04e-4a56-ac7f-ba3fd70c7247",
   "metadata": {},
   "source": [
    "### Map Functions\n",
    "The Map() function in python is a built in function that allows you to apply a given function to each item\n",
    "of an iterable such as list, tuple or string and return an interable map objecrt, which can be convcerted to other iterable.\n",
    "its a powerful tool for perfoming the ame operation on multiple elements of a collection"
   ]
  },
  {
   "cell_type": "code",
   "execution_count": 51,
   "id": "2a01229b-8056-42e3-910a-c5d77bf83c7e",
   "metadata": {},
   "outputs": [],
   "source": [
    "def square(x):\n",
    "    return x ** 2"
   ]
  },
  {
   "cell_type": "code",
   "execution_count": 53,
   "id": "2eae6ffc-e5f3-4acd-883a-80bb55a031d7",
   "metadata": {},
   "outputs": [],
   "source": [
    "number = [1, 2, 3, 4, 5]"
   ]
  },
  {
   "cell_type": "code",
   "execution_count": 55,
   "id": "e4a99ce9-bbcd-4c26-9148-b97b2aed4246",
   "metadata": {},
   "outputs": [
    {
     "data": {
      "text/plain": [
       "[1, 4, 9, 16, 25]"
      ]
     },
     "execution_count": 55,
     "metadata": {},
     "output_type": "execute_result"
    }
   ],
   "source": [
    "list(map(square, number))"
   ]
  },
  {
   "cell_type": "code",
   "execution_count": 59,
   "id": "000fbae8-e76d-462b-bfb4-722c5f2719ed",
   "metadata": {},
   "outputs": [
    {
     "name": "stdout",
     "output_type": "stream",
     "text": [
      "1\n",
      "4\n",
      "9\n",
      "16\n",
      "25\n"
     ]
    }
   ],
   "source": [
    "for i in map(square, number):\n",
    "    print(i)"
   ]
  },
  {
   "cell_type": "markdown",
   "id": "dd0281e0-6855-4bda-8a3f-4a2ad9fc0434",
   "metadata": {},
   "source": [
    "### Using map() with lambda function"
   ]
  },
  {
   "cell_type": "code",
   "execution_count": 62,
   "id": "ecdbbf8d-85d2-4e96-b80f-24ab3a20b3d8",
   "metadata": {},
   "outputs": [
    {
     "data": {
      "text/plain": [
       "[1, 2, 3, 4, 5]"
      ]
     },
     "execution_count": 62,
     "metadata": {},
     "output_type": "execute_result"
    }
   ],
   "source": [
    "number"
   ]
  },
  {
   "cell_type": "code",
   "execution_count": 66,
   "id": "59166b19-5fe2-4464-8245-a3d81857c92f",
   "metadata": {},
   "outputs": [
    {
     "name": "stdout",
     "output_type": "stream",
     "text": [
      "1\n",
      "4\n",
      "9\n",
      "16\n",
      "25\n"
     ]
    }
   ],
   "source": [
    "for i in map(lambda x: x **2, number):\n",
    "    print(i)"
   ]
  },
  {
   "cell_type": "markdown",
   "id": "8990447d-ff6c-4fbf-affb-d13b03f5e4db",
   "metadata": {},
   "source": [
    "### Apply map() to multiple iterable"
   ]
  },
  {
   "cell_type": "code",
   "execution_count": 72,
   "id": "46c38195-9659-45b4-b927-43c3f0260265",
   "metadata": {},
   "outputs": [],
   "source": [
    "list1 = [1, 2, 3]\n",
    "list2 = [10, 20, 30]"
   ]
  },
  {
   "cell_type": "code",
   "execution_count": 74,
   "id": "27d65fe4-bb5b-49d4-94ce-640506a8cd2a",
   "metadata": {},
   "outputs": [
    {
     "data": {
      "text/plain": [
       "[11, 22, 33]"
      ]
     },
     "execution_count": 74,
     "metadata": {},
     "output_type": "execute_result"
    }
   ],
   "source": [
    "list(map(lambda x, y: x + y, list1, list2))"
   ]
  },
  {
   "cell_type": "markdown",
   "id": "9aca5fc6-2022-4c47-94e4-ea5990bac6d0",
   "metadata": {},
   "source": [
    "### Mapping characters to their ascii values"
   ]
  },
  {
   "cell_type": "code",
   "execution_count": 77,
   "id": "fd0fe494-66ec-4cd7-a03c-6437f433fc46",
   "metadata": {},
   "outputs": [],
   "source": [
    "# Using map get ASCII values of characters on a string\n",
    "text = \"Hello\"\n",
    "ascii_values = map(ord, text)"
   ]
  },
  {
   "cell_type": "code",
   "execution_count": 79,
   "id": "0a88e0a0-2190-47db-8a29-70dbfbbf4d07",
   "metadata": {},
   "outputs": [
    {
     "data": {
      "text/plain": [
       "[72, 101, 108, 108, 111]"
      ]
     },
     "execution_count": 79,
     "metadata": {},
     "output_type": "execute_result"
    }
   ],
   "source": [
    "list(ascii_values)"
   ]
  },
  {
   "cell_type": "code",
   "execution_count": 81,
   "id": "1a7d229d-ed6d-437e-b608-e701347ca5fa",
   "metadata": {},
   "outputs": [],
   "source": [
    "text = \"Everything\"\n",
    "ascii_values = map(ord, text)"
   ]
  },
  {
   "cell_type": "code",
   "execution_count": 83,
   "id": "dcedc67a-dc53-4420-9dc4-5d4d64016bdc",
   "metadata": {},
   "outputs": [
    {
     "data": {
      "text/plain": [
       "[69, 118, 101, 114, 121, 116, 104, 105, 110, 103]"
      ]
     },
     "execution_count": 83,
     "metadata": {},
     "output_type": "execute_result"
    }
   ],
   "source": [
    "list(ascii_values)"
   ]
  },
  {
   "cell_type": "markdown",
   "id": "eff697f9-944c-4158-a4ae-5ecf6d23fa05",
   "metadata": {},
   "source": [
    "### Object Oriented Programming in Python\n",
    "Object oriented programming is a paradigm that used opbjects to structure \n",
    "and organise code. In OOP, eerything is treated as an object, which is an istance of class. A class is the\n",
    "blueprint for creating object, indluding thier propertiea(Attributes) and behaviours(Methods)\n"
   ]
  },
  {
   "cell_type": "markdown",
   "id": "2f11ae52-4ca2-4b03-826d-72f4300241bd",
   "metadata": {},
   "source": [
    "#### Some important concept in OOP\n",
    "- Class: A Class is a blueprint or template for creating objects\n",
    "- Object: An Object is an instance of a class.\n",
    "- Attribute: Attribute are varibales that store data Within an object\n",
    "- Method: Method are functions that define the behavoiur of an object"
   ]
  },
  {
   "cell_type": "code",
   "execution_count": 15,
   "id": "cb893473-51d7-4ae5-89f3-c18fcf957c5b",
   "metadata": {},
   "outputs": [],
   "source": [
    "# Creating a class\n",
    "class item:\n",
    "    pass"
   ]
  },
  {
   "cell_type": "code",
   "execution_count": 17,
   "id": "60b1c18c-80a3-4cfc-bc25-4fd8f687bfb3",
   "metadata": {},
   "outputs": [],
   "source": [
    "def mrpelu():\n",
    "    pass"
   ]
  },
  {
   "cell_type": "code",
   "execution_count": 113,
   "id": "a57ef650-6b73-4a42-8219-f88a9c758dc2",
   "metadata": {},
   "outputs": [
    {
     "name": "stdout",
     "output_type": "stream",
     "text": [
      "I am Created!!!\n"
     ]
    }
   ],
   "source": [
    "item1 = item()"
   ]
  },
  {
   "cell_type": "code",
   "execution_count": 117,
   "id": "a1fda646-5698-4309-9513-88a376cf9334",
   "metadata": {},
   "outputs": [
    {
     "data": {
      "text/plain": [
       "__main__.item"
      ]
     },
     "execution_count": 117,
     "metadata": {},
     "output_type": "execute_result"
    }
   ],
   "source": [
    "item"
   ]
  },
  {
   "cell_type": "code",
   "execution_count": 119,
   "id": "d515b053-aefd-46f4-888e-f495bc167c24",
   "metadata": {},
   "outputs": [],
   "source": [
    "class Human:\n",
    "    def walk(self):\n",
    "        return \"Human can walk\"    \n",
    "    def eat(self):\n",
    "        return \"Human can eat\"    \n",
    "    def jump():\n",
    "        return \"Human can jump\"\n",
    "    def sleep():\n",
    "        return \"Human can sleep\"\n",
    "    def Erin():\n",
    "        return \"Erin is human and can do all of this thing\"\n",
    "        "
   ]
  },
  {
   "cell_type": "code",
   "execution_count": 121,
   "id": "ea8e4100-5b33-4647-a219-d3edca339ccd",
   "metadata": {},
   "outputs": [
    {
     "name": "stdout",
     "output_type": "stream",
     "text": [
      "<class '__main__.Human'>\n"
     ]
    }
   ],
   "source": [
    "print(Human)"
   ]
  },
  {
   "cell_type": "code",
   "execution_count": 123,
   "id": "cd3f4b35-2da9-4d64-9ab5-8761b5c07e0c",
   "metadata": {},
   "outputs": [],
   "source": [
    "black = Human()"
   ]
  },
  {
   "cell_type": "code",
   "execution_count": 125,
   "id": "f8479e5e-833e-45c2-9da4-9680f9521486",
   "metadata": {},
   "outputs": [],
   "source": [
    "black.head = 1\n",
    "black.eyes = 2\n",
    "black.nose = 1\n",
    "black.mouth = 1"
   ]
  },
  {
   "cell_type": "code",
   "execution_count": 127,
   "id": "e4d62312-1839-4757-9c45-a9a979df1c3c",
   "metadata": {},
   "outputs": [
    {
     "data": {
      "text/plain": [
       "2"
      ]
     },
     "execution_count": 127,
     "metadata": {},
     "output_type": "execute_result"
    }
   ],
   "source": [
    "black.eyes"
   ]
  },
  {
   "cell_type": "code",
   "execution_count": 129,
   "id": "b3ce123f-31f0-4640-8a50-6f62203fa33d",
   "metadata": {},
   "outputs": [],
   "source": [
    "# Assigning attributes to the instance of a class\n",
    "Item.name = \"Phone\"\n",
    "Item.price = 100\n",
    "Item.quantity = 5"
   ]
  },
  {
   "cell_type": "code",
   "execution_count": 131,
   "id": "41549d50-2b1a-41ac-86f5-7a23bd3efa09",
   "metadata": {},
   "outputs": [
    {
     "data": {
      "text/plain": [
       "'Phone'"
      ]
     },
     "execution_count": 131,
     "metadata": {},
     "output_type": "execute_result"
    }
   ],
   "source": [
    "Item.name"
   ]
  },
  {
   "cell_type": "code",
   "execution_count": 133,
   "id": "0312d7dc-7c39-482e-a52c-52c75b9a15e8",
   "metadata": {},
   "outputs": [],
   "source": [
    "# Giving the class a method\n",
    "class item:\n",
    "    def calculate_total_price(self, x, y):\n",
    "        return x * y"
   ]
  },
  {
   "cell_type": "code",
   "execution_count": 135,
   "id": "9b5d0164-6400-4a8c-b8dd-ede374fb4f1a",
   "metadata": {},
   "outputs": [],
   "source": [
    "Item1 = item()"
   ]
  },
  {
   "cell_type": "code",
   "execution_count": 137,
   "id": "2901a7e2-677c-4bec-9c14-6adb7a5d921c",
   "metadata": {},
   "outputs": [],
   "source": [
    "Item1.name = \"Laptop\"\n",
    "Item1.price = 1000\n",
    "Item1.quantity = 3"
   ]
  },
  {
   "cell_type": "code",
   "execution_count": 139,
   "id": "d1c8de83-141c-4bbe-8de4-e2595afa0f6e",
   "metadata": {},
   "outputs": [
    {
     "data": {
      "text/plain": [
       "500"
      ]
     },
     "execution_count": 139,
     "metadata": {},
     "output_type": "execute_result"
    }
   ],
   "source": [
    "Item1.calculate_total_price(Item.price, Item.quantity)"
   ]
  },
  {
   "cell_type": "code",
   "execution_count": 141,
   "id": "379682aa-be3f-4b22-a5c7-f72f7568de3b",
   "metadata": {},
   "outputs": [],
   "source": [
    "# Using the dunder method a crewate the attributes\n",
    "class item:\n",
    "    def __init__(self):\n",
    "        print(\"I am Created!!!\")"
   ]
  },
  {
   "cell_type": "code",
   "execution_count": 143,
   "id": "b26608e6-54aa-490d-9026-becd7e9c5b26",
   "metadata": {},
   "outputs": [],
   "source": [
    "class Item:\n",
    "    def __init__(self, name, price, quantity):\n",
    "        self.name = name\n",
    "        self.price = price\n",
    "        self.quantity = quantity\n",
    "\n",
    "    def calculate_total_price(self):\n",
    "        return self.price * self.quantity"
   ]
  },
  {
   "cell_type": "code",
   "execution_count": 145,
   "id": "cf1c7b1e-deed-4edf-b28a-97c9fdf106b5",
   "metadata": {},
   "outputs": [],
   "source": [
    "item1= Item(\"Phone\", 100, 5)\n",
    "item2 = Item(\"Laptop\", 1000, 3)"
   ]
  },
  {
   "cell_type": "code",
   "execution_count": null,
   "id": "aee359e2-d02c-4c93-8c2b-0544eca5b19b",
   "metadata": {},
   "outputs": [],
   "source": []
  },
  {
   "cell_type": "code",
   "execution_count": null,
   "id": "1efcf7b6-9eaa-4d49-8fa2-debd647b4924",
   "metadata": {},
   "outputs": [],
   "source": []
  },
  {
   "cell_type": "code",
   "execution_count": null,
   "id": "a3e33ae5-6b97-49f8-986c-4bb296e15e01",
   "metadata": {},
   "outputs": [],
   "source": []
  }
 ],
 "metadata": {
  "kernelspec": {
   "display_name": "Python 3 (ipykernel)",
   "language": "python",
   "name": "python3"
  },
  "language_info": {
   "codemirror_mode": {
    "name": "ipython",
    "version": 3
   },
   "file_extension": ".py",
   "mimetype": "text/x-python",
   "name": "python",
   "nbconvert_exporter": "python",
   "pygments_lexer": "ipython3",
   "version": "3.12.7"
  }
 },
 "nbformat": 4,
 "nbformat_minor": 5
}
