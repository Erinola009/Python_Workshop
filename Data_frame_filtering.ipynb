{
 "cells": [
  {
   "cell_type": "markdown",
   "id": "04016b9e-71ba-4796-93a3-0012de9cd2ff",
   "metadata": {},
   "source": [
    "### Dataframe Filtering and Selection using iloc and loc\n",
    "#### OLALEKAN P ELEBUTE\n",
    "COHORT 7\n",
    "\n"
   ]
  },
  {
   "cell_type": "code",
   "execution_count": 2,
   "id": "783d62c1-7a19-4723-a1b3-ce4aa7d641dd",
   "metadata": {},
   "outputs": [
    {
     "name": "stdout",
     "output_type": "stream",
     "text": [
      "First 3 rows:\n",
      "    Name Department  Age  Gender  Salary  Experience\n",
      "0  John         IT   30    Male   50000           3\n",
      "1  Mary  Marketing   40  Female   60000           7\n",
      "2   Bob      Sales   25    Male   45000           2\n",
      "\n",
      "Rows where Department is 'Marketing':\n",
      "    Name Department  Age  Gender  Salary  Experience\n",
      "1  Mary  Marketing   40  Female   60000           7\n",
      "5  Lisa  Marketing   28  Female   55000           4\n",
      "\n",
      "Age and Gender for the first 4 rows:\n",
      "    Age  Gender\n",
      "0   30    Male\n",
      "1   40  Female\n",
      "2   25    Male\n",
      "3   35  Female\n",
      "\n",
      "Salary and Experience for rows where Gender is 'Male':\n",
      "    Salary  Experience\n",
      "0   50000           3\n",
      "2   45000           2\n",
      "4   70000          10\n"
     ]
    }
   ],
   "source": [
    "import pandas as pd\n",
    "\n",
    "data = {\n",
    "    'Name': ['John', 'Mary', 'Bob', 'Sarah', 'Tom', 'Lisa'],\n",
    "    'Department': ['IT', 'Marketing', 'Sales', 'IT', 'Finance', 'Marketing'],\n",
    "    'Age': [30, 40, 25, 35, 45, 28],\n",
    "    'Gender': ['Male', 'Female', 'Male', 'Female', 'Male', 'Female'],\n",
    "    'Salary': [50000, 60000, 45000, 55000, 70000, 55000],\n",
    "    'Experience': [3, 7, 2, 5, 10, 4]\n",
    "}\n",
    "\n",
    "employee_df = pd.DataFrame(data)\n",
    "\n",
    "# Use iloc to select the first 3 rows\n",
    "first_three_rows = employee_df.iloc[:3]\n",
    "print(\"First 3 rows:\\n\", first_three_rows)\n",
    "\n",
    "# Use loc to select all rows where the Department is \"Marketing\"\n",
    "marketing_department = employee_df.loc[employee_df['Department'] == 'Marketing']\n",
    "print(\"\\nRows where Department is 'Marketing':\\n\", marketing_department)\n",
    "\n",
    "# Use iloc to select the Age and Gender columns for the first 4 rows\n",
    "age_gender_first_four = employee_df.iloc[:4, [2, 3]]  # 2 and 3 are the column indices for Age and Gender\n",
    "print(\"\\nAge and Gender for the first 4 rows:\\n\", age_gender_first_four)\n",
    "\n",
    "# Use loc to select the Salary and Experience columns for all rows where the Gender is \"Male\"\n",
    "salary_experience_male = employee_df.loc[employee_df['Gender'] == 'Male', ['Salary', 'Experience']]\n",
    "print(\"\\nSalary and Experience for rows where Gender is 'Male':\\n\", salary_experience_male)\n"
   ]
  },
  {
   "cell_type": "code",
   "execution_count": null,
   "id": "e8dc132d-928d-44d9-9053-ee99e71b25eb",
   "metadata": {},
   "outputs": [],
   "source": []
  }
 ],
 "metadata": {
  "kernelspec": {
   "display_name": "Python 3 (ipykernel)",
   "language": "python",
   "name": "python3"
  },
  "language_info": {
   "codemirror_mode": {
    "name": "ipython",
    "version": 3
   },
   "file_extension": ".py",
   "mimetype": "text/x-python",
   "name": "python",
   "nbconvert_exporter": "python",
   "pygments_lexer": "ipython3",
   "version": "3.12.7"
  }
 },
 "nbformat": 4,
 "nbformat_minor": 5
}
