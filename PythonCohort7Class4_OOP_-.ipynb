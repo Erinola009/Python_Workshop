{
 "cells": [
  {
   "cell_type": "markdown",
   "id": "66cb9017-81e2-4982-96bf-722d98461bef",
   "metadata": {},
   "source": [
    "### Class Work Continues on OOP PYTHON\n",
    "    - NOV/13/2024"
   ]
  },
  {
   "cell_type": "code",
   "execution_count": 111,
   "id": "d65b9b14-c933-4d5b-a1df-1b81d52fa3c1",
   "metadata": {},
   "outputs": [],
   "source": [
    "# Giving the class a method\n",
    "class item:\n",
    "    def calculate_total_price(self, x, y):\n",
    "        return x * y"
   ]
  },
  {
   "cell_type": "code",
   "execution_count": 113,
   "id": "1e3b2a26-342e-4ebd-be70-6349d17a87de",
   "metadata": {},
   "outputs": [],
   "source": [
    "Item = item()"
   ]
  },
  {
   "cell_type": "code",
   "execution_count": 115,
   "id": "59b63084-b099-44af-9532-e893fb593c75",
   "metadata": {},
   "outputs": [],
   "source": [
    "# Assigning attributes to the instance of a class\n",
    "Item.name = \"Phone\"\n",
    "Item.price = 100\n",
    "Item.quantity = 5"
   ]
  },
  {
   "cell_type": "code",
   "execution_count": 117,
   "id": "e5e07bd6-e7a3-423f-833e-5ed161cbeb95",
   "metadata": {},
   "outputs": [],
   "source": [
    "# Assigning data types to the attributes\n",
    "class item:\n",
    "    def __init__(self, name: str, price: float, quantity = 0):\n",
    "        self.name = name\n",
    "        self.price = price\n",
    "        self.quantity = quantity\n",
    "\n",
    "    # Modified the method to reference the price and quantity\n",
    "    def calculate_total_price(self):\n",
    "        return self.price * self.quantity"
   ]
  },
  {
   "cell_type": "code",
   "execution_count": 125,
   "id": "ba334774-c031-43db-b100-635f58691743",
   "metadata": {},
   "outputs": [],
   "source": [
    "# Assigning data types to the attributes\n",
    "class item:\n",
    "    pay_rate = 0.8 # this is a class attribute\n",
    "    def __init__(self, name: str, price: int, quantity = 0):\n",
    "        assert price >= 0, f\"price {price} is not grater than or equal to zero!\"\n",
    "        assert quantity >= 0, f\"quantity {quantity} is not qreater or equal to zero!\"\n",
    "        assert name == str(name), f\"{name} must be string\"\n",
    "        self.name = name\n",
    "        self.price = price\n",
    "        self.quantity = quantity\n",
    "\n",
    "    # Modified the method to reference the price and quantity\n",
    "    def calculate_total_price(self):\n",
    "        return self.price * self.quantity\n",
    "\n",
    "    # Making use of the pay_rate class attribute\n",
    "    def calculate_discount(self):\n",
    "        return self.pay_rate * self.price"
   ]
  },
  {
   "cell_type": "code",
   "execution_count": 127,
   "id": "6948a2f2-70e1-4ea5-8150-9b312e5e3a9e",
   "metadata": {},
   "outputs": [],
   "source": [
    "Item1 = item(\"Phone\", 100, 5)\n",
    "item2 = item(\"Laptop\", 1000, 3)"
   ]
  },
  {
   "cell_type": "code",
   "execution_count": 129,
   "id": "9a9ac0a6-5a80-4f9e-b313-78de1668158f",
   "metadata": {},
   "outputs": [
    {
     "data": {
      "text/plain": [
       "80.0"
      ]
     },
     "execution_count": 129,
     "metadata": {},
     "output_type": "execute_result"
    }
   ],
   "source": [
    "Item1.calculate_discount()"
   ]
  },
  {
   "cell_type": "code",
   "execution_count": null,
   "id": "44ed099a-6658-4097-bedd-b4ce4a5d8260",
   "metadata": {},
   "outputs": [],
   "source": []
  },
  {
   "cell_type": "markdown",
   "id": "8d8bcc72-cb29-4ce5-82f2-5c073b8b8436",
   "metadata": {},
   "source": [
    "### CLASS INHERITANCE\n",
    "- Object oritented programming gives room for interactions\n",
    "between two classes, one functions as parent class and another \n",
    "one as child's class"
   ]
  },
  {
   "cell_type": "code",
   "execution_count": 12,
   "id": "2d9949b8-e50c-4415-8b26-9cf905fae102",
   "metadata": {},
   "outputs": [],
   "source": [
    "# Define a superclass or parent class\n",
    "class Animal:\n",
    "    def __init__(self, name):\n",
    "        self.name = name\n",
    "        \n",
    "    def speak(self):\n",
    "        return  \"This animal can make a sound\"\n",
    "        \n",
    "    def live(self):\n",
    "        return \"This animal is living\""
   ]
  },
  {
   "cell_type": "code",
   "execution_count": 14,
   "id": "ec7d6d62-732a-4611-8c01-21bf2c83db29",
   "metadata": {},
   "outputs": [],
   "source": [
    "# Define a subclass or child class\n",
    "\n",
    "class Dog(Animal):\n",
    "    def speak(self):\n",
    "        return \"Woof\""
   ]
  },
  {
   "cell_type": "code",
   "execution_count": 16,
   "id": "1ff8f571-67e6-4e95-a04f-70ee90e2811a",
   "metadata": {},
   "outputs": [],
   "source": [
    "my_dog = Dog(\"Bingo\")"
   ]
  },
  {
   "cell_type": "code",
   "execution_count": 18,
   "id": "e9227e83-bd83-4fda-b676-5b183781d1c5",
   "metadata": {},
   "outputs": [
    {
     "data": {
      "text/plain": [
       "'Bingo'"
      ]
     },
     "execution_count": 18,
     "metadata": {},
     "output_type": "execute_result"
    }
   ],
   "source": [
    "my_dog.name"
   ]
  },
  {
   "cell_type": "code",
   "execution_count": 20,
   "id": "ba56cae9-fdc0-4eb0-b68c-3cd14a855f90",
   "metadata": {},
   "outputs": [
    {
     "data": {
      "text/plain": [
       "'Woof'"
      ]
     },
     "execution_count": 20,
     "metadata": {},
     "output_type": "execute_result"
    }
   ],
   "source": [
    "my_dog.speak()"
   ]
  },
  {
   "cell_type": "code",
   "execution_count": 22,
   "id": "4290e0db-e351-46d9-98a4-e9cfd8a284f5",
   "metadata": {},
   "outputs": [],
   "source": [
    "# Define a subclass or child class\n",
    "\n",
    "class Dog(Animal):\n",
    "    def speak(self):\n",
    "        pass"
   ]
  },
  {
   "cell_type": "code",
   "execution_count": 39,
   "id": "49b9bfeb-869c-4470-82e4-0950a8f34aa0",
   "metadata": {},
   "outputs": [
    {
     "data": {
      "text/plain": [
       "'This animal is living'"
      ]
     },
     "execution_count": 39,
     "metadata": {},
     "output_type": "execute_result"
    }
   ],
   "source": [
    "my_dog.live()"
   ]
  },
  {
   "cell_type": "code",
   "execution_count": 57,
   "id": "b003dfe0-b12d-47f4-aa70-fc76d3b60561",
   "metadata": {},
   "outputs": [],
   "source": [
    "# Define a superclass or parent class\n",
    "class Cat(Animal):\n",
    "    def __init__(self, name, age):\n",
    "    # Now we are adding age\n",
    "        self.age = age\n",
    "        super().__init__(name)\n",
    "        \n",
    "    def speak(self):\n",
    "        return  \"Meow\"\n",
    "        \n",
    "    def live(self):\n",
    "        return \"This animal is living\""
   ]
  },
  {
   "cell_type": "code",
   "execution_count": 63,
   "id": "a33e5334-e9a0-4f36-bf85-ef94687d49a7",
   "metadata": {},
   "outputs": [],
   "source": [
    "my_cat = Cat(\"Teddy\", 2)"
   ]
  },
  {
   "cell_type": "code",
   "execution_count": 65,
   "id": "5f5a8a97-eb86-4724-8f3c-8b406300d04b",
   "metadata": {},
   "outputs": [
    {
     "data": {
      "text/plain": [
       "'Teddy'"
      ]
     },
     "execution_count": 65,
     "metadata": {},
     "output_type": "execute_result"
    }
   ],
   "source": [
    "my_cat.name"
   ]
  },
  {
   "cell_type": "code",
   "execution_count": null,
   "id": "e2934707-4c0b-423c-929f-f31674f7cced",
   "metadata": {},
   "outputs": [],
   "source": []
  }
 ],
 "metadata": {
  "kernelspec": {
   "display_name": "Python 3 (ipykernel)",
   "language": "python",
   "name": "python3"
  },
  "language_info": {
   "codemirror_mode": {
    "name": "ipython",
    "version": 3
   },
   "file_extension": ".py",
   "mimetype": "text/x-python",
   "name": "python",
   "nbconvert_exporter": "python",
   "pygments_lexer": "ipython3",
   "version": "3.12.7"
  }
 },
 "nbformat": 4,
 "nbformat_minor": 5
}
