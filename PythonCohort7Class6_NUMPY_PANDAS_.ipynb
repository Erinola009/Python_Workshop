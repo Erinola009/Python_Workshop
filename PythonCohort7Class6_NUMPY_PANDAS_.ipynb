{
 "cells": [
  {
   "cell_type": "code",
   "execution_count": 19,
   "id": "e02f3af8-dcd1-4af8-a26b-85e5ea8300c9",
   "metadata": {},
   "outputs": [],
   "source": [
    "# import numpy\n",
    "import numpy as np"
   ]
  },
  {
   "cell_type": "code",
   "execution_count": 21,
   "id": "f8439567-11cb-455a-a319-d1591a71886c",
   "metadata": {},
   "outputs": [],
   "source": [
    "# import pandas\n",
    "\n",
    "import pandas as pd"
   ]
  },
  {
   "cell_type": "code",
   "execution_count": 23,
   "id": "f0bc51c1-7dd2-460d-9163-931c2fb703af",
   "metadata": {},
   "outputs": [
    {
     "ename": "NameError",
     "evalue": "name 'series_car' is not defined",
     "output_type": "error",
     "traceback": [
      "\u001b[1;31m---------------------------------------------------------------------------\u001b[0m",
      "\u001b[1;31mNameError\u001b[0m                                 Traceback (most recent call last)",
      "Cell \u001b[1;32mIn[23], line 1\u001b[0m\n\u001b[1;32m----> 1\u001b[0m df_car \u001b[38;5;241m=\u001b[39m pd\u001b[38;5;241m.\u001b[39mDataFrame(series_car, columns \u001b[38;5;241m=\u001b[39m [\u001b[38;5;124m'\u001b[39m\u001b[38;5;124mcar brand\u001b[39m\u001b[38;5;124m'\u001b[39m])\n\u001b[0;32m      2\u001b[0m \u001b[38;5;28mprint\u001b[39m(df_car)\n",
      "\u001b[1;31mNameError\u001b[0m: name 'series_car' is not defined"
     ]
    }
   ],
   "source": [
    "df_car = pd.DataFrame(series_car, columns = ['car brand'])\n",
    "print(df_car)"
   ]
  },
  {
   "cell_type": "code",
   "execution_count": null,
   "id": "18df29f0-cef9-4904-a59b-d2b148f4cf15",
   "metadata": {},
   "outputs": [],
   "source": [
    "type(df_car)"
   ]
  },
  {
   "cell_type": "code",
   "execution_count": null,
   "id": "2135ce2f-5847-44de-ad2b-89c09d845d9f",
   "metadata": {},
   "outputs": [],
   "source": [
    "price = pd.Series([3.1, 4.5, 13.5, 19.9], index = ['A', 'B', 'C', 'D'])\n",
    "quantity = pd.Series ([7, 10, 15, 24], index = ['A', 'B', 'C', 'D'])\n",
    "\n",
    "# find the revenue --\n",
    "revenue = price * quantity\n",
    "print(revenue)"
   ]
  },
  {
   "cell_type": "code",
   "execution_count": null,
   "id": "44cef858-59e6-4119-b7df-aba2a27a071d",
   "metadata": {},
   "outputs": [],
   "source": [
    "# Concatenation\n",
    "\n",
    "result_concat = pd.concat([price, quantity], axis =1)\n",
    "print(result_concat)"
   ]
  },
  {
   "cell_type": "code",
   "execution_count": null,
   "id": "9cc72569-07ea-4349-9c58-b506e44a5456",
   "metadata": {},
   "outputs": [],
   "source": [
    "# rename the 0 and 1 to price and quantity, respectively.\n",
    "df_renamed = result_concat.rename(columns = {0:\"price\", 1:'quantity'}, index = {'A':0, 'B':1, 'C':2, 'D':3})\n",
    "df_renamed"
   ]
  },
  {
   "cell_type": "code",
   "execution_count": null,
   "id": "7120d41d-910e-4170-aae7-e4860476d7fc",
   "metadata": {},
   "outputs": [],
   "source": [
    "#df_renamed['revenue'] = df_renamed.price *df_renamed.quantity\n",
    "df_renamed['revenue'] = df_renamed['price'] * df_renamed['quantity']\n",
    "df_renamed"
   ]
  },
  {
   "cell_type": "markdown",
   "id": "8c2f48f5-9c48-46c5-a31c-33096e6e9196",
   "metadata": {},
   "source": [
    "### Other functions and methods in Pandas\n",
    "**.describe(): It is an inbult method that generates descriptive statistics for a DataFrame or Series, including the count, mean, standard devaition, munimum, 25th percentile, 50th percentile (median), 75th percentile, and maximum.**"
   ]
  },
  {
   "cell_type": "code",
   "execution_count": null,
   "id": "c5282826-45aa-4309-8658-ff3d02cab851",
   "metadata": {},
   "outputs": [],
   "source": [
    "# view thee summary statistics of the def_renamed\n",
    "df_renamed.describe().astype('int') # .astye(): is a method for converting from one data type to another"
   ]
  },
  {
   "cell_type": "code",
   "execution_count": null,
   "id": "43f5c32e-2cc0-4dc0-91d9-c06b21c45c11",
   "metadata": {},
   "outputs": [],
   "source": [
    "df_renamed.describe([.40, .60, .90])"
   ]
  },
  {
   "cell_type": "code",
   "execution_count": null,
   "id": "f57203ff-6444-4235-90be-c8db771ded44",
   "metadata": {},
   "outputs": [],
   "source": [
    "df_renamed.describe([.40])"
   ]
  },
  {
   "cell_type": "code",
   "execution_count": null,
   "id": "95466a08-54e2-439c-a084-4217787543ae",
   "metadata": {},
   "outputs": [],
   "source": [
    "df_renamed['price'].median()"
   ]
  },
  {
   "cell_type": "code",
   "execution_count": null,
   "id": "e5ecf83a-d124-4b3b-a0c6-11c002e359d5",
   "metadata": {},
   "outputs": [],
   "source": [
    "# retrieve 24 using loc from quantity\n",
    "df_renamed.loc[0:2, 'quantity']"
   ]
  },
  {
   "cell_type": "code",
   "execution_count": null,
   "id": "c92962ad-95da-4040-9caa-2cf950851753",
   "metadata": {},
   "outputs": [],
   "source": [
    "df_renamed"
   ]
  },
  {
   "cell_type": "code",
   "execution_count": null,
   "id": "24797fbf-8c48-487c-85a7-5b50437b1c25",
   "metadata": {},
   "outputs": [],
   "source": [
    "# Creating a dictionary\n",
    "customer_table = {\"customer_id\": [101, 102, 103, 104, 105], \"customer_name\": ['Olasoji', 'Tobi', 'Niyi', 'Tosin', 'Erin'],\n",
    "           \"department\": [\"Money Laundry\", \"BabaIjebu\", \"Sporty\", \"Betnaija\", \"Data Scienece\"], \"salary\": [45000, 3500, 23890, 90788, 29888], \"grade_level\": [\"senior\", \"director\", \"senior\", \"manager\", \"junor\"]}\n",
    "print(customer_table)"
   ]
  },
  {
   "cell_type": "code",
   "execution_count": null,
   "id": "8fdf0998-b647-4b70-8ba0-425edcea2437",
   "metadata": {},
   "outputs": [],
   "source": [
    "customer_table"
   ]
  },
  {
   "cell_type": "code",
   "execution_count": null,
   "id": "507d501b-821e-4e6f-a12c-618b8c3210a1",
   "metadata": {},
   "outputs": [],
   "source": [
    "customer_table = df.loc[2, ['customer_name', 'department']]\n",
    "print(customer_info)"
   ]
  },
  {
   "cell_type": "code",
   "execution_count": null,
   "id": "fcd21c31-b044-4fe3-b501-4f91e823965c",
   "metadata": {},
   "outputs": [],
   "source": [
    "customer_table.iloc[0:3]"
   ]
  },
  {
   "cell_type": "code",
   "execution_count": null,
   "id": "f5b182eb-192e-42ca-98ac-26ba2f1f27dc",
   "metadata": {},
   "outputs": [],
   "source": [
    "# filter rows where salary is between 1200 and 5000 (inclusive)\n",
    "# | ===> , & ===> and\n",
    "filtered_df = customer_table.loc[(customer_table['salary'] >= 3500) & (customer_table['salary'] <= 90788)]\n",
    "filtered_df"
   ]
  },
  {
   "cell_type": "code",
   "execution_count": 25,
   "id": "879370e3-259c-4b4a-8cfa-c339100dcdf0",
   "metadata": {},
   "outputs": [],
   "source": [
    "# import neccessary libraries\n",
    "import pandas as pd\n",
    "import numpy as np\n",
    "\n",
    "# for visual\n",
    "import matplotlib.pyplot as plt\n",
    "import seaborn as sns"
   ]
  },
  {
   "cell_type": "code",
   "execution_count": 26,
   "id": "e1b8993d-b458-40ef-a6c4-993eba8e8431",
   "metadata": {},
   "outputs": [
    {
     "data": {
      "text/html": [
       "<div>\n",
       "<style scoped>\n",
       "    .dataframe tbody tr th:only-of-type {\n",
       "        vertical-align: middle;\n",
       "    }\n",
       "\n",
       "    .dataframe tbody tr th {\n",
       "        vertical-align: top;\n",
       "    }\n",
       "\n",
       "    .dataframe thead th {\n",
       "        text-align: right;\n",
       "    }\n",
       "</style>\n",
       "<table border=\"1\" class=\"dataframe\">\n",
       "  <thead>\n",
       "    <tr style=\"text-align: right;\">\n",
       "      <th></th>\n",
       "      <th>OrderNumber</th>\n",
       "      <th>OrderDate</th>\n",
       "      <th>Ship Date</th>\n",
       "      <th>Customer Name Index</th>\n",
       "      <th>Channel</th>\n",
       "      <th>Currency Code</th>\n",
       "      <th>Warehouse Code</th>\n",
       "      <th>Delivery Region Index</th>\n",
       "      <th>Product Description Index</th>\n",
       "      <th>Order Quantity</th>\n",
       "      <th>Unit Price</th>\n",
       "      <th>Total Unit Cost</th>\n",
       "      <th>Total Revenue</th>\n",
       "    </tr>\n",
       "  </thead>\n",
       "  <tbody>\n",
       "    <tr>\n",
       "      <th>0</th>\n",
       "      <td>SO - 000101</td>\n",
       "      <td>2014-06-01</td>\n",
       "      <td>2014-08-02</td>\n",
       "      <td>15</td>\n",
       "      <td>Distributor</td>\n",
       "      <td>USD</td>\n",
       "      <td>NXH382</td>\n",
       "      <td>47</td>\n",
       "      <td>11</td>\n",
       "      <td>5</td>\n",
       "      <td>1963.1</td>\n",
       "      <td>1001.181</td>\n",
       "      <td>9815.5</td>\n",
       "    </tr>\n",
       "    <tr>\n",
       "      <th>1</th>\n",
       "      <td>SO - 000102</td>\n",
       "      <td>2014-06-01</td>\n",
       "      <td>2014-08-10</td>\n",
       "      <td>20</td>\n",
       "      <td>Wholesale</td>\n",
       "      <td>NZD</td>\n",
       "      <td>GUT930</td>\n",
       "      <td>36</td>\n",
       "      <td>2</td>\n",
       "      <td>5</td>\n",
       "      <td>3939.6</td>\n",
       "      <td>3348.660</td>\n",
       "      <td>19698.0</td>\n",
       "    </tr>\n",
       "    <tr>\n",
       "      <th>2</th>\n",
       "      <td>SO - 000103</td>\n",
       "      <td>2014-06-01</td>\n",
       "      <td>2014-07-08</td>\n",
       "      <td>16</td>\n",
       "      <td>Export</td>\n",
       "      <td>USD</td>\n",
       "      <td>GUT930</td>\n",
       "      <td>39</td>\n",
       "      <td>11</td>\n",
       "      <td>10</td>\n",
       "      <td>1775.5</td>\n",
       "      <td>781.220</td>\n",
       "      <td>17755.0</td>\n",
       "    </tr>\n",
       "    <tr>\n",
       "      <th>3</th>\n",
       "      <td>SO - 000104</td>\n",
       "      <td>2014-06-01</td>\n",
       "      <td>2014-07-12</td>\n",
       "      <td>48</td>\n",
       "      <td>Export</td>\n",
       "      <td>USD</td>\n",
       "      <td>AXW291</td>\n",
       "      <td>20</td>\n",
       "      <td>7</td>\n",
       "      <td>6</td>\n",
       "      <td>2324.9</td>\n",
       "      <td>1464.687</td>\n",
       "      <td>13949.4</td>\n",
       "    </tr>\n",
       "    <tr>\n",
       "      <th>4</th>\n",
       "      <td>SO - 000105</td>\n",
       "      <td>2014-06-01</td>\n",
       "      <td>2014-08-28</td>\n",
       "      <td>49</td>\n",
       "      <td>Wholesale</td>\n",
       "      <td>USD</td>\n",
       "      <td>AXW291</td>\n",
       "      <td>20</td>\n",
       "      <td>7</td>\n",
       "      <td>6</td>\n",
       "      <td>1822.4</td>\n",
       "      <td>1476.144</td>\n",
       "      <td>10934.4</td>\n",
       "    </tr>\n",
       "  </tbody>\n",
       "</table>\n",
       "</div>"
      ],
      "text/plain": [
       "   OrderNumber  OrderDate  Ship Date  Customer Name Index      Channel  \\\n",
       "0  SO - 000101 2014-06-01 2014-08-02                   15  Distributor   \n",
       "1  SO - 000102 2014-06-01 2014-08-10                   20    Wholesale   \n",
       "2  SO - 000103 2014-06-01 2014-07-08                   16       Export   \n",
       "3  SO - 000104 2014-06-01 2014-07-12                   48       Export   \n",
       "4  SO - 000105 2014-06-01 2014-08-28                   49    Wholesale   \n",
       "\n",
       "  Currency Code Warehouse Code  Delivery Region Index  \\\n",
       "0           USD         NXH382                     47   \n",
       "1           NZD         GUT930                     36   \n",
       "2           USD         GUT930                     39   \n",
       "3           USD         AXW291                     20   \n",
       "4           USD         AXW291                     20   \n",
       "\n",
       "   Product Description Index  Order Quantity  Unit Price  Total Unit Cost  \\\n",
       "0                         11               5      1963.1         1001.181   \n",
       "1                          2               5      3939.6         3348.660   \n",
       "2                         11              10      1775.5          781.220   \n",
       "3                          7               6      2324.9         1464.687   \n",
       "4                          7               6      1822.4         1476.144   \n",
       "\n",
       "   Total Revenue  \n",
       "0         9815.5  \n",
       "1        19698.0  \n",
       "2        17755.0  \n",
       "3        13949.4  \n",
       "4        10934.4  "
      ]
     },
     "execution_count": 26,
     "metadata": {},
     "output_type": "execute_result"
    }
   ],
   "source": [
    "# import and read file/dataset\n",
    "df = pd.read_excel(r\"C:\\Users\\MAC\\Desktop\\Python_Workshop\\Sales order.xlsx\")\n",
    "df.head()"
   ]
  },
  {
   "cell_type": "code",
   "execution_count": null,
   "id": "779a8376-e07f-4511-b3f1-7d67a262c159",
   "metadata": {},
   "outputs": [],
   "source": []
  },
  {
   "cell_type": "code",
   "execution_count": null,
   "id": "2a171b31-d783-4231-ba87-7c78d11de33f",
   "metadata": {},
   "outputs": [],
   "source": []
  }
 ],
 "metadata": {
  "kernelspec": {
   "display_name": "Python 3 (ipykernel)",
   "language": "python",
   "name": "python3"
  },
  "language_info": {
   "codemirror_mode": {
    "name": "ipython",
    "version": 3
   },
   "file_extension": ".py",
   "mimetype": "text/x-python",
   "name": "python",
   "nbconvert_exporter": "python",
   "pygments_lexer": "ipython3",
   "version": "3.12.7"
  }
 },
 "nbformat": 4,
 "nbformat_minor": 5
}
