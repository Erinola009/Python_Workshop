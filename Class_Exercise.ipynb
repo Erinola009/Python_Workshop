{
 "cells": [
  {
   "cell_type": "markdown",
   "id": "f1cf83db-94c9-44eb-88a1-6c5037c5d458",
   "metadata": {},
   "source": [
    "### Class Exercise\n",
    "-Create a car class with two intance attribute\n",
    "- Color which store the name of the cars color as a string and mileage, which stores the number of mile on the car as an integer\n",
    "- Then instantite two car objects - a blue car with 20, 00 mile and red car with30,000 and print out thier colors \n",
    "- Modify the car class with an instance method called drive() that takes a number as an argument and adds that number to the \n",
    "        - Mileage attribute test that your solution work by instantiating a car with 0 miles, then car drive(100) and print the mileage\n",
    "        - Attribute to check that it is set to 100"
   ]
  },
  {
   "cell_type": "code",
   "execution_count": 81,
   "id": "b2e5b6e6-ff2c-4961-8ade-e032530ec8f4",
   "metadata": {},
   "outputs": [
    {
     "name": "stdout",
     "output_type": "stream",
     "text": [
      "the color of the blue car is: Blue\n",
      "the color of the red car is: Red\n"
     ]
    }
   ],
   "source": [
    "# Creating Class \n",
    "class Car:\n",
    "    def __init__(self, color: str, mileage: int):\n",
    "        # initialize the car with color and milage\n",
    "        self.color = color\n",
    "        self.mileage = mileage\n",
    "\n",
    "    def drive(self, miles: int):\n",
    "        # add the mile to the car's mileage\n",
    "        if miles > 0:\n",
    "            self.mileage += miles\n",
    "        else:\n",
    "            print(\"Miles driven must be a positive number\")\n",
    "\n",
    "# Instantiate two car objects\n",
    "blue_car = Car(color=\"Blue\", mileage=20000)\n",
    "red_car = Car(color=\"Red\", mileage=3000)\n",
    "\n",
    "# Print out the colors of the cars\n",
    "print(f\"the color of the blue car is: {blue_car.color}\")\n",
    "print(f\"the color of the red car is: {red_car.color}\")"
   ]
  },
  {
   "cell_type": "code",
   "execution_count": 83,
   "id": "7ffc8f75-d35d-440d-9023-6202d1797cff",
   "metadata": {},
   "outputs": [
    {
     "name": "stdout",
     "output_type": "stream",
     "text": [
      "Initial mileage of the green car: 0\n"
     ]
    }
   ],
   "source": [
    "# Test the drive method\n",
    "zero_mileage_car = Car(color=\"Green\", mileage=0)\n",
    "print(f\"Initial mileage of the green car: {zero_mileage_car.mileage}\")"
   ]
  },
  {
   "cell_type": "code",
   "execution_count": 85,
   "id": "71c5286e-c294-4f89-9bed-8ac787b7ee9f",
   "metadata": {},
   "outputs": [],
   "source": [
    "# Drive the car for 100 miles\n",
    "zero_mileage_car.drive(100)"
   ]
  },
  {
   "cell_type": "code",
   "execution_count": 87,
   "id": "90d75495-3e4f-408c-9375-aadc556ab745",
   "metadata": {},
   "outputs": [
    {
     "name": "stdout",
     "output_type": "stream",
     "text": [
      "Updated mileage of the green car: 100\n"
     ]
    }
   ],
   "source": [
    "# Print the updated mileage to check if it is set to 100\n",
    "print(f\"Updated mileage of the green car: {zero_mileage_car.mileage}\")"
   ]
  },
  {
   "cell_type": "code",
   "execution_count": 89,
   "id": "1fe55dda-5a6c-4568-85c4-4639c43fe446",
   "metadata": {},
   "outputs": [
    {
     "data": {
      "text/plain": [
       "100"
      ]
     },
     "execution_count": 89,
     "metadata": {},
     "output_type": "execute_result"
    }
   ],
   "source": [
    "zero_mileage_car.mileage"
   ]
  },
  {
   "cell_type": "markdown",
   "id": "b34be0b4-cdba-4549-82b3-5a591c799487",
   "metadata": {},
   "source": [
    "### Another Method of Solving The Excerise"
   ]
  },
  {
   "cell_type": "code",
   "execution_count": 91,
   "id": "83aad0ba-09d5-484b-99fb-7bee09b91d09",
   "metadata": {},
   "outputs": [],
   "source": [
    "class Car:\n",
    "    def __init__(self, color:str, mileage: int):\n",
    "        self.color = color\n",
    "        self.mileage = mileage\n",
    "\n",
    "    def drive(self, number):\n",
    "        return number + self.mileage"
   ]
  },
  {
   "cell_type": "code",
   "execution_count": 92,
   "id": "ef5ace3b-2301-4cbb-9386-1e427748be51",
   "metadata": {},
   "outputs": [],
   "source": [
    "blue_car = Car(\"Blue\", 20000)\n",
    "red_car = Car(\"Red\", 30000)"
   ]
  },
  {
   "cell_type": "code",
   "execution_count": 96,
   "id": "f221bc29-0d2f-4420-9c4e-cbf2a58261fb",
   "metadata": {},
   "outputs": [
    {
     "data": {
      "text/plain": [
       "20100"
      ]
     },
     "execution_count": 96,
     "metadata": {},
     "output_type": "execute_result"
    }
   ],
   "source": [
    "blue_car.drive(100)"
   ]
  },
  {
   "cell_type": "code",
   "execution_count": 98,
   "id": "ae3011c5-843f-486f-9445-f6c34a5b40b9",
   "metadata": {},
   "outputs": [],
   "source": [
    "yellow_car = Car(\"Yellow\", 0)"
   ]
  },
  {
   "cell_type": "code",
   "execution_count": 100,
   "id": "f77c4ddf-529d-4ec8-a04d-10bf2b49acbf",
   "metadata": {},
   "outputs": [
    {
     "data": {
      "text/plain": [
       "100"
      ]
     },
     "execution_count": 100,
     "metadata": {},
     "output_type": "execute_result"
    }
   ],
   "source": [
    "yellow_car.drive(100)"
   ]
  },
  {
   "cell_type": "code",
   "execution_count": 102,
   "id": "6c27a519-454b-437c-9d09-5dee38ad4b12",
   "metadata": {},
   "outputs": [
    {
     "name": "stdout",
     "output_type": "stream",
     "text": [
      "Blue\n",
      "20000\n",
      "Red\n",
      "30000\n"
     ]
    }
   ],
   "source": [
    "print(blue_car.color)\n",
    "print(blue_car.mileage)\n",
    "print(red_car.color)\n",
    "print(red_car.mileage)"
   ]
  },
  {
   "cell_type": "raw",
   "id": "e2fc4fae-e64c-4ca0-85a5-e599bd4ee5da",
   "metadata": {},
   "source": []
  },
  {
   "cell_type": "code",
   "execution_count": null,
   "id": "3b0f39ce-1cf2-44f0-88c8-d427d2feb2e1",
   "metadata": {},
   "outputs": [],
   "source": []
  },
  {
   "cell_type": "code",
   "execution_count": null,
   "id": "439053eb-bc45-4300-972f-1ebfede11197",
   "metadata": {},
   "outputs": [],
   "source": []
  }
 ],
 "metadata": {
  "kernelspec": {
   "display_name": "Python 3 (ipykernel)",
   "language": "python",
   "name": "python3"
  },
  "language_info": {
   "codemirror_mode": {
    "name": "ipython",
    "version": 3
   },
   "file_extension": ".py",
   "mimetype": "text/x-python",
   "name": "python",
   "nbconvert_exporter": "python",
   "pygments_lexer": "ipython3",
   "version": "3.12.7"
  }
 },
 "nbformat": 4,
 "nbformat_minor": 5
}
