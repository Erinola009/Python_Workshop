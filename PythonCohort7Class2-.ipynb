{
 "cells": [
  {
   "cell_type": "markdown",
   "id": "aa71c728-febe-4c18-81e4-b545ae7a5561",
   "metadata": {},
   "source": [
    "### Randomization in Games\n",
    "The random module is commonly use in game delevelopment to intoduce randomness into gameplay"
   ]
  },
  {
   "cell_type": "code",
   "execution_count": 63,
   "id": "df5274f2-7107-4931-92b0-c36a22957f62",
   "metadata": {},
   "outputs": [],
   "source": [
    "import random"
   ]
  },
  {
   "cell_type": "code",
   "execution_count": 57,
   "id": "81b78393-d7f0-4fab-9679-ff5059b37c06",
   "metadata": {},
   "outputs": [
    {
     "name": "stdout",
     "output_type": "stream",
     "text": [
      "Niyi Win\n"
     ]
    }
   ],
   "source": [
    "# Simulate a coin toss (0= heads, 1 = tails)\n",
    "coin_toss = random.choice([0, 1])\n",
    "\n",
    "if coin_toss ==0:\n",
    "    print(\"Niyi Win\")\n",
    "else:\n",
    "    \n",
    "    print(\"Niyi Loss\")"
   ]
  },
  {
   "cell_type": "markdown",
   "id": "596a3eda-5d29-4f14-9db2-a93e5d303f35",
   "metadata": {},
   "source": [
    "### Simulating Events\n",
    "We can use random numbers to simulate events with different probabilities"
   ]
  },
  {
   "cell_type": "code",
   "execution_count": 51,
   "id": "b31863bb-7656-41c4-b7b1-064dbe07adc1",
   "metadata": {},
   "outputs": [
    {
     "name": "stdout",
     "output_type": "stream",
     "text": [
      "Event Occurred\n"
     ]
    }
   ],
   "source": [
    "if random.random() < 0.7:\n",
    "    print(\"Event Occurred\")\n",
    "else:\n",
    "    print(\"Event did not occur\")"
   ]
  },
  {
   "cell_type": "code",
   "execution_count": 71,
   "id": "0d8a2dc7-c967-4769-b471-5518d8d5b999",
   "metadata": {},
   "outputs": [
    {
     "data": {
      "text/plain": [
       "148"
      ]
     },
     "execution_count": 71,
     "metadata": {},
     "output_type": "execute_result"
    }
   ],
   "source": [
    "random.randrange(100, 200)"
   ]
  },
  {
   "cell_type": "code",
   "execution_count": 108,
   "id": "2291f35c-4aca-4fc3-9843-83dbd7a7ef54",
   "metadata": {},
   "outputs": [
    {
     "name": "stdout",
     "output_type": "stream",
     "text": [
      "1\n"
     ]
    }
   ],
   "source": [
    "# Using while for summation\n",
    "# calculate the sum of numbers from 1 to 10 using while loop\n",
    "total = 0\n",
    "num = 1\n",
    "\n",
    "while num <= 10:\n",
    "    total = total + num\n",
    "    print(total)\n",
    "    break\n",
    "    num = num + 1"
   ]
  },
  {
   "cell_type": "markdown",
   "id": "4cc54675-3331-4546-b4fc-2a15a0628b49",
   "metadata": {},
   "source": [
    "### While Loops\n",
    "A while loop is fundamental programming construct in phthon that allows you to repeatedly execute block of code as long as a specified condition is true.\n",
    "its used when you want perform a task repeatedly until a certain condition is met or until a specific number of iteration have been completed"
   ]
  },
  {
   "cell_type": "code",
   "execution_count": 97,
   "id": "6c43f225-63e4-489c-9ab3-2602cfaeda7f",
   "metadata": {},
   "outputs": [],
   "source": [
    "count = 1"
   ]
  },
  {
   "cell_type": "code",
   "execution_count": 99,
   "id": "3d487680-a47d-41a4-8003-4fc70bab257a",
   "metadata": {},
   "outputs": [
    {
     "name": "stdout",
     "output_type": "stream",
     "text": [
      "1\n",
      "2\n",
      "3\n",
      "4\n",
      "5\n"
     ]
    }
   ],
   "source": [
    "while count <=5:\n",
    "    print(count)\n",
    "    count = count + 1"
   ]
  },
  {
   "cell_type": "code",
   "execution_count": 105,
   "id": "a1a6af06-c550-413b-bec3-73f999493d8e",
   "metadata": {},
   "outputs": [
    {
     "name": "stdout",
     "output_type": "stream",
     "text": [
      "5\n",
      "4\n",
      "3\n",
      "2\n",
      "1\n"
     ]
    }
   ],
   "source": [
    "count = 5\n",
    "\n",
    "while count >=1:\n",
    "    print(count)\n",
    "    count = count - 1"
   ]
  },
  {
   "cell_type": "code",
   "execution_count": null,
   "id": "047433df-6ffd-42c6-8718-3b5832583911",
   "metadata": {},
   "outputs": [],
   "source": []
  },
  {
   "cell_type": "code",
   "execution_count": null,
   "id": "a2139268-d054-4753-862d-1b656ed4964e",
   "metadata": {},
   "outputs": [],
   "source": []
  },
  {
   "cell_type": "markdown",
   "id": "419e1ed2-bd72-450c-bf28-f019eabb1aae",
   "metadata": {},
   "source": [
    "### Random Module\n",
    "Python's random module is a powerful tool for \n",
    "generating random data. It can be used for various\n",
    "purposes, such as generating random numbers,\n",
    "shuffing sequences, and making decesions based on \n",
    "randomness."
   ]
  },
  {
   "cell_type": "code",
   "execution_count": 134,
   "id": "4d88ad3c-ea35-4e6c-9ad8-5bc7979f18b2",
   "metadata": {},
   "outputs": [
    {
     "data": {
      "text/plain": [
       "0.763774618976614"
      ]
     },
     "execution_count": 134,
     "metadata": {},
     "output_type": "execute_result"
    }
   ],
   "source": [
    "import random\n",
    "# Generate a randOM float beteen 0 and 1\n",
    "random.random()"
   ]
  },
  {
   "cell_type": "code",
   "execution_count": 136,
   "id": "93a3d681-71c5-41ca-b440-ae2ff0827beb",
   "metadata": {},
   "outputs": [
    {
     "data": {
      "text/plain": [
       "0.2550690257394217"
      ]
     },
     "execution_count": 136,
     "metadata": {},
     "output_type": "execute_result"
    }
   ],
   "source": [
    "random.random()"
   ]
  },
  {
   "cell_type": "code",
   "execution_count": 16,
   "id": "0dc43952-f645-49ba-8f96-40a9464c15a4",
   "metadata": {},
   "outputs": [],
   "source": [
    "fruits = [\"apple\", \"banana\", \"Cherry\", \"date\", \"elderberry\"]"
   ]
  },
  {
   "cell_type": "code",
   "execution_count": 18,
   "id": "58508bff-1634-4cfc-b1a2-6d266b3b991f",
   "metadata": {},
   "outputs": [
    {
     "data": {
      "text/plain": [
       "'apple'"
      ]
     },
     "execution_count": 18,
     "metadata": {},
     "output_type": "execute_result"
    }
   ],
   "source": [
    "random.choice(fruits)"
   ]
  },
  {
   "cell_type": "code",
   "execution_count": 26,
   "id": "caed7484-75b6-4f9c-a585-817ab5e6789c",
   "metadata": {},
   "outputs": [],
   "source": [
    "states = [\"Abia\", \"Adamawa\", \"Akwa Ibom\", \"Anambra\", \"Bauchi\", \"Bayelsa\", \"Benue\", \"Borno\", \n",
    " \"Cross River\", \"Delta\", \"Ebonyi\", \"Edo\", \"Ekiti\", \"Enugu\", \"Gombe\", \"Imo\", \"Jigawa\",\n",
    " \"Kaduna\", \"Kano\", \"Katsina\", \"Kebbi\", \"Kogi\", \"Kwara\", \"Lagos\", \"Nasarawa\", \n",
    " \"Niger\", \"Ogun\", \"Ondo\", \"Osun\", \"Oyo\", \"Plateau\", \"Rivers\", \"Sokoto\", \"Taraba\", \"Yobe\",\"Zamfara\"]"
   ]
  },
  {
   "cell_type": "code",
   "execution_count": 34,
   "id": "ba46d8d1-61f2-45d8-889c-b608d14c42aa",
   "metadata": {},
   "outputs": [
    {
     "data": {
      "text/plain": [
       "'Lagos'"
      ]
     },
     "execution_count": 34,
     "metadata": {},
     "output_type": "execute_result"
    }
   ],
   "source": [
    "random.choice(states)"
   ]
  },
  {
   "cell_type": "code",
   "execution_count": 36,
   "id": "c455f928-e64f-4e40-ab92-dff416f4caac",
   "metadata": {},
   "outputs": [
    {
     "data": {
      "text/plain": [
       "['Edo', 'Anambra', 'Kebbi', 'Kogi', 'Kebbi', 'Ogun', 'Adamawa', 'Abia']"
      ]
     },
     "execution_count": 36,
     "metadata": {},
     "output_type": "execute_result"
    }
   ],
   "source": [
    "random.choices(states, k=8)"
   ]
  },
  {
   "cell_type": "markdown",
   "id": "58fabdcd-48aa-4818-8bfe-7655d8c96845",
   "metadata": {},
   "source": [
    "### Shuffling sequence\n",
    "The sheffle() function can be used to randomly reorder the element\n",
    "of a sequence in place"
   ]
  },
  {
   "cell_type": "code",
   "execution_count": 43,
   "id": "8415cbb7-5254-47e2-97de-4629de707d58",
   "metadata": {},
   "outputs": [],
   "source": [
    "cards = [\"Erinola\", \"2\", \"3\", \"4\", \"5\", \"6\", \"7\", \"8\", \"9\", \"10\", \"Niyi\", \"Soji\"]"
   ]
  },
  {
   "cell_type": "code",
   "execution_count": 53,
   "id": "6edacf28-82bc-4a63-8bae-0a6432f15dbd",
   "metadata": {},
   "outputs": [],
   "source": [
    "random.shuffle(cards)"
   ]
  },
  {
   "cell_type": "code",
   "execution_count": 55,
   "id": "64a642af-78ee-46cf-ab9a-261c43c48f48",
   "metadata": {},
   "outputs": [
    {
     "data": {
      "text/plain": [
       "['10', 'Soji', '6', '3', '5', '8', '2', 'Niyi', '4', 'Erinola', '7', '9']"
      ]
     },
     "execution_count": 55,
     "metadata": {},
     "output_type": "execute_result"
    }
   ],
   "source": [
    "cards"
   ]
  },
  {
   "cell_type": "code",
   "execution_count": 57,
   "id": "9f602fd1-6283-4928-98d0-bbffa5872172",
   "metadata": {},
   "outputs": [
    {
     "data": {
      "text/plain": [
       "['10', 'Soji', '6', '3', '5', '8', '2', 'Niyi', '4', 'Erinola', '7', '9']"
      ]
     },
     "execution_count": 57,
     "metadata": {},
     "output_type": "execute_result"
    }
   ],
   "source": [
    "cards"
   ]
  },
  {
   "cell_type": "markdown",
   "id": "5f8e8da4-3391-4a76-9fb7-0e4215c3a68c",
   "metadata": {},
   "source": [
    "### Setting the random seed\n",
    "You can set a seed for the randome number generator using\n",
    "seed() to return reproduciliblity."
   ]
  },
  {
   "cell_type": "code",
   "execution_count": 60,
   "id": "77fa72eb-8242-4aed-b63e-ae3d96752545",
   "metadata": {},
   "outputs": [
    {
     "data": {
      "text/plain": [
       "0.13436424411240122"
      ]
     },
     "execution_count": 60,
     "metadata": {},
     "output_type": "execute_result"
    }
   ],
   "source": [
    "random.seed(1)\n",
    "random.random()"
   ]
  },
  {
   "cell_type": "code",
   "execution_count": 114,
   "id": "342786a7-1fcf-4241-b739-665ddafc57a5",
   "metadata": {},
   "outputs": [
    {
     "name": "stdout",
     "output_type": "stream",
     "text": [
      "Ebonyi\n",
      "Edo\n",
      "Ekiti\n",
      "Enugu\n"
     ]
    }
   ],
   "source": [
    "# Selecting all state that startwith (A)\n",
    "for state in states:\n",
    "    if state.startswith(\"E\"):\n",
    "        print(state)"
   ]
  },
  {
   "cell_type": "markdown",
   "id": "accdda8b-5dc5-4c9e-8796-fed6664df3e8",
   "metadata": {},
   "source": [
    "### Random Real Numbers\n",
    "To generate ramdom floating-point numbers within a \n",
    "specifed range, use uniform()"
   ]
  },
  {
   "cell_type": "code",
   "execution_count": 117,
   "id": "b7bb0a7b-77e2-4f93-b755-cee6145bbc1e",
   "metadata": {},
   "outputs": [],
   "source": [
    "random = random.uniform(1, 9)"
   ]
  },
  {
   "cell_type": "code",
   "execution_count": 119,
   "id": "9631a5f9-c8cc-4748-8440-1a02e569211c",
   "metadata": {},
   "outputs": [
    {
     "data": {
      "text/plain": [
       "7.779469895497861"
      ]
     },
     "execution_count": 119,
     "metadata": {},
     "output_type": "execute_result"
    }
   ],
   "source": [
    "random"
   ]
  },
  {
   "cell_type": "markdown",
   "id": "9bee825f-a04e-4455-b346-3282a9b7b504",
   "metadata": {},
   "source": [
    "### Random Integers\n",
    "Use randint() to generate random integers within a \n",
    "specified range(inclusive)"
   ]
  },
  {
   "cell_type": "code",
   "execution_count": 138,
   "id": "54d6b1c8-5e1a-4d10-b9f2-8a47f943c809",
   "metadata": {},
   "outputs": [
    {
     "data": {
      "text/plain": [
       "9"
      ]
     },
     "execution_count": 138,
     "metadata": {},
     "output_type": "execute_result"
    }
   ],
   "source": [
    "random_int = random.randint(2, 9)\n",
    "random_int"
   ]
  },
  {
   "cell_type": "code",
   "execution_count": null,
   "id": "83b351eb-426f-4543-9c96-fbc6ff2f23d7",
   "metadata": {},
   "outputs": [],
   "source": []
  }
 ],
 "metadata": {
  "kernelspec": {
   "display_name": "Python 3 (ipykernel)",
   "language": "python",
   "name": "python3"
  },
  "language_info": {
   "codemirror_mode": {
    "name": "ipython",
    "version": 3
   },
   "file_extension": ".py",
   "mimetype": "text/x-python",
   "name": "python",
   "nbconvert_exporter": "python",
   "pygments_lexer": "ipython3",
   "version": "3.12.7"
  }
 },
 "nbformat": 4,
 "nbformat_minor": 5
}
