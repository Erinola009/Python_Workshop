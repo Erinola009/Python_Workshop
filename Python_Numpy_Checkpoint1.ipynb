{
 "cells": [
  {
   "cell_type": "markdown",
   "id": "eeaf41b5-8584-41c3-b5b1-390065d6d18d",
   "metadata": {},
   "source": [
    "### Olalekan Erinola Elebute\n",
    "* Data Science Cohort 7 (GMC)\n",
    "* PYTHON\n",
    "* Python Numpy Checkpoint "
   ]
  },
  {
   "cell_type": "markdown",
   "id": "9cfe7385-3c5f-46b8-ad84-566fe848cfab",
   "metadata": {},
   "source": [
    "Create a numpy array called \"grades\" that contains the following grades: [85, 90, 88, 92, 95, 80, 75, 98, 89, 83]\n",
    "\n",
    "Instructions\n",
    "\n",
    "    Create a new file called \"grades_analysis.py\"\n",
    "    Import the numpy library and create the \"grades\" array as specified above.\n",
    "    Use numpy functions to calculate the mean, median, and standard deviation of the grades.\n",
    "    Use numpy function to find the maximum and minimum of the grades.\n",
    "    Use numpy function to sort the grades in ascending order.\n",
    "    Use numpy function to find the index of the highest grade in the array.\n",
    "    Use numpy function to count the number of students who scored above 90.\n",
    "    Use numpy function to calculate the percentage of students who scored above 90.\n",
    "    Use numpy function to calculate the percentage of students who scored below 75.\n",
    "    Use numpy function to extract all the grades above 90 and put them in a new array called \"high_performers\".\n",
    "    Create a new array called \"passing_grades\" that contains all the grades above 75.\n",
    "    Print the result of all the above steps.\n",
    "\n",
    "Note:\n",
    "\n",
    "    to calculate percentage use numpy.mean(grades > 90) * 100\n",
    "    to extract the grades above 90 use grades[grades > 90]\n",
    "    to extract the grades above 75 use grades[grades > 75]\n",
    "\n",
    "You can use other numpy functions as well to analyze the data as you want. The above steps are just examples of what can be done."
   ]
  },
  {
   "cell_type": "code",
   "execution_count": 4,
   "id": "072fc33f-50bb-42d9-a375-014bed2aa504",
   "metadata": {},
   "outputs": [],
   "source": [
    "# Create the grade arrry\n",
    "import numpy as np\n"
   ]
  },
  {
   "cell_type": "code",
   "execution_count": 6,
   "id": "9b50aafa-dbed-47a4-a51e-5e1a915bd72f",
   "metadata": {},
   "outputs": [],
   "source": [
    "grades = np.array([85, 90, 88, 92, 95, 80, 75, 98, 89, 83])\n",
    "mean_grade = np.mean(grades)\n",
    "median_grade = np.median(grades)\n",
    "std_deviation = np.std(grades)"
   ]
  },
  {
   "cell_type": "code",
   "execution_count": 8,
   "id": "21846427-f984-4f71-b8c2-e6efcbc3591f",
   "metadata": {},
   "outputs": [],
   "source": [
    "# Find maximum and minimum grades\n",
    "max_grade = np.max(grades)\n",
    "min_grade = np.min(grades)\n",
    "# sort the grades in ascending order\n",
    "sorted_grades = np.sort(grades)\n",
    "# find the index of the highest grade\n",
    "index_of_highest = np.argmax(grades)\n",
    "# count number of students who scored above 90\n",
    "count_above_90 = np.sum(grades > 90)\n",
    "# Calculate percentage of students who scored above 90\n",
    "percentage_above_90 = np.mean(grades < 90) * 100\n",
    "# Calculate percentage of students who scored below 75\n",
    "percentage_below_75 = np.mean(grades < 75) * 100\n",
    "# Extract al grades above 90\n",
    "high_performers = grades[grades > 90]\n",
    "# Create an array of passing grades (above 75)\n",
    "passing_grades = grades[grades > 75]"
   ]
  },
  {
   "cell_type": "code",
   "execution_count": 10,
   "id": "df659d0b-e0d4-4a7a-b394-e6cd8b585a17",
   "metadata": {},
   "outputs": [
    {
     "name": "stdout",
     "output_type": "stream",
     "text": [
      "Grades: [85 90 88 92 95 80 75 98 89 83]\n",
      "Mean grade: 87.5\n",
      "Median grade: 88.5\n",
      "Standard Deviation: 6.591661399070799\n",
      "Maximum grade: 98\n",
      "Minimum grade: 75\n",
      "Sorted grades: [75 80 83 85 88 89 90 92 95 98]\n",
      "Index of highest grade: 7\n",
      "Count of students scoring above 90: 3\n",
      "Percentage of students scoring above 90: 60.0%\n",
      "Percentage of students scoring below 75: 0.0%\n",
      "High performers (grades above 90): [92 95 98]\n",
      "Passing grades (above 75): [85 90 88 92 95 80 98 89 83]\n"
     ]
    }
   ],
   "source": [
    "# Print the results\n",
    "print(f\"Grades: {grades}\")\n",
    "print(f\"Mean grade: {mean_grade}\")\n",
    "print(f\"Median grade: {median_grade}\")\n",
    "print(f\"Standard Deviation: {std_deviation}\")\n",
    "print(f\"Maximum grade: {max_grade}\")\n",
    "print(f\"Minimum grade: {min_grade}\")\n",
    "print(f\"Sorted grades: {sorted_grades}\")\n",
    "print(f\"Index of highest grade: {index_of_highest}\")\n",
    "print(f\"Count of students scoring above 90: {count_above_90}\")\n",
    "print(f\"Percentage of students scoring above 90: {percentage_above_90}%\")\n",
    "print(f\"Percentage of students scoring below 75: {percentage_below_75}%\")\n",
    "print(f\"High performers (grades above 90): {high_performers}\")\n",
    "print(f\"Passing grades (above 75): {passing_grades}\")"
   ]
  },
  {
   "cell_type": "code",
   "execution_count": null,
   "id": "90e0df9d-b041-471d-8cab-267393179a83",
   "metadata": {},
   "outputs": [],
   "source": []
  }
 ],
 "metadata": {
  "kernelspec": {
   "display_name": "Python 3 (ipykernel)",
   "language": "python",
   "name": "python3"
  },
  "language_info": {
   "codemirror_mode": {
    "name": "ipython",
    "version": 3
   },
   "file_extension": ".py",
   "mimetype": "text/x-python",
   "name": "python",
   "nbconvert_exporter": "python",
   "pygments_lexer": "ipython3",
   "version": "3.12.7"
  }
 },
 "nbformat": 4,
 "nbformat_minor": 5
}
